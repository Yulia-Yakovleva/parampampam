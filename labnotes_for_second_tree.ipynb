{
 "cells": [
  {
   "cell_type": "code",
   "execution_count": 5,
   "metadata": {},
   "outputs": [
    {
     "name": "stdout",
     "output_type": "stream",
     "text": [
      "99\r\n"
     ]
    }
   ],
   "source": [
    "! grep '>' -c raw_data/coi_complete_set_with_additions.txt"
   ]
  },
  {
   "cell_type": "code",
   "execution_count": 8,
   "metadata": {},
   "outputs": [
    {
     "name": "stdout",
     "output_type": "stream",
     "text": [
      "99\n"
     ]
    }
   ],
   "source": [
    "from Bio import SeqIO\n",
    "\n",
    "file = SeqIO.parse('raw_data/coi_complete_set_with_additions.txt', 'fasta')\n",
    "# print(len([rec for rec in file]))\n",
    "\n",
    "recs = [rec for rec in file]\n",
    "\n",
    "with open('raw_data/coi_complete_set_with_additions.fa', 'w') as out_f:\n",
    "    SeqIO.write(recs, out_f, 'fasta')\n",
    "    print(len(recs))"
   ]
  },
  {
   "cell_type": "code",
   "execution_count": 9,
   "metadata": {},
   "outputs": [
    {
     "name": "stdout",
     "output_type": "stream",
     "text": [
      "                                                  description  length\n",
      "5C9181D926                       K11-4B P.bursaria MT078144.1     769\n",
      "F10C5943C2                HSG1-11 P.chlorelligerum KX669632.1     760\n",
      "32A56D7A63      P.multimicronucleatum Wg8 JF741271.1  USA, VA     638\n",
      "A710810275   P.multimicronucleatum OLI-Parame-mult-01 FJ90...     704\n",
      "3F7924970D     P.multimicronucleatum MB2-5 JF741245.1 Moldova     638\n",
      "...                                                       ...     ...\n",
      "383A0FBBF5                            IP P. bursaria JF304186     723\n",
      "1AB9140D10                        Pb1C30 P. bursaria JX082041     769\n",
      "6C31D8AFB8          OLI-Parame-burs-01 P. bursaria FJ905152.1     769\n",
      "3E8674A1D9                         P. chlorelligerum KX669634     760\n",
      "CBB9F825A6                     ShKm41 Kemerovo region, Russia     748\n",
      "\n",
      "[99 rows x 2 columns]\n"
     ]
    },
    {
     "data": {
      "text/plain": [
       "99"
      ]
     },
     "execution_count": 9,
     "metadata": {},
     "output_type": "execute_result"
    }
   ],
   "source": [
    "# import uuid\n",
    "\n",
    "# def my_random_string(string_length=10):\n",
    "#     \"\"\"Returns a random string of length string_length.\"\"\"\n",
    "#     random = str(uuid.uuid4()) # Convert UUID format to a Python string.\n",
    "#     random = random.upper() # Make all characters uppercase.\n",
    "#     random = random.replace(\"-\",\"\") # Remove the UUID '-'.\n",
    "#     return random[0:string_length] # Return the random string.\n",
    "\n",
    "# # print(my_random_string(6)) # For example, D9E50C\n",
    "\n",
    "# from Bio import SeqIO\n",
    "\n",
    "# names = {}\n",
    "\n",
    "# recs_out = []\n",
    "\n",
    "# recs = SeqIO.parse('raw_data/coi_complete_set_with_additions.fa', 'fasta')\n",
    "# for el in recs:\n",
    "#     rndm = my_random_string(10)\n",
    "#     names[rndm] = [el.description, len(el)]\n",
    "#     el.name = rndm\n",
    "#     el.description = rndm\n",
    "#     el.id = rndm\n",
    "#     recs_out.append(el)    \n",
    "\n",
    "# # print(names)\n",
    "\n",
    "# import pandas as pd\n",
    "\n",
    "# df = pd.DataFrame.from_dict(names, orient='index', columns=['description', 'length'])\n",
    "# print(df)\n",
    "# df.to_csv('raw_data/stats_full.tsv', sep='\\t')\n",
    "# SeqIO.write(recs_out, 'raw_data/formated_ids_full.fa', 'fasta')"
   ]
  },
  {
   "cell_type": "code",
   "execution_count": 15,
   "metadata": {},
   "outputs": [
    {
     "name": "stdout",
     "output_type": "stream",
     "text": [
      "outputhat23=16\n",
      "treein = 0\n",
      "compacttree = 0\n",
      "stacksize: 8192 kb\n",
      "generating a scoring matrix for nucleotide (dist=200) ... done\n",
      "All-to-all alignment.\n",
      "tbfast-pair (nuc) Version 7.429\n",
      "alg=L, model=DNA200 (2), 2.00 (6.00), -0.10 (-0.30), noshift, amax=0.0\n",
      "0 thread(s)\n",
      "\n",
      "outputhat23=16\n",
      "Loading 'hat3.seed' ... \n",
      "done.\n",
      "Writing hat3 for iterative refinement\n",
      "generating a scoring matrix for nucleotide (dist=200) ... done\n",
      "Gap Penalty = -1.53, +0.00, +0.00\n",
      "tbutree = 1, compacttree = 0\n",
      "Constructing a UPGMA tree ... \n",
      "   90 / 99\n",
      "done.\n",
      "\n",
      "Progressive alignment ... \n",
      "STEP    97 /98 \n",
      "Reallocating..done. *alloclen = 2543\n",
      "STEP    98 /98 \n",
      "done.\n",
      "tbfast (nuc) Version 7.429\n",
      "alg=A, model=DNA200 (2), 1.53 (4.59), -0.00 (-0.00), noshift, amax=0.0\n",
      "1 thread(s)\n",
      "\n",
      "minimumweight = 0.000010\n",
      "autosubalignment = 0.000000\n",
      "nthread = 0\n",
      "randomseed = 0\n",
      "blosum 62 / kimura 200\n",
      "poffset = 0\n",
      "niter = 16\n",
      "sueff_global = 0.100000\n",
      "nadd = 16\n",
      "Loading 'hat3' ... done.\n",
      "generating a scoring matrix for nucleotide (dist=200) ... done\n",
      "\n",
      "   90 / 99\n",
      "Segment   1/  1    1- 786\n",
      "STEP 002-003-1  identical.    identical.    identical.    identical.    identical.    identical.    identical.    identical.    identical.    identical.    identical.    identical.    identical.    identical.    identical.    identical.    identical.    identical.    identical.    identical.    identical.    identical.    identical.    identical.    identical.    identical.    identical.    identical.    identical.    rejected. identical.    identical.    identical.    identical.    identical.    identical.    identical.    identical.    identical.    identical.    identical.    identical.    identical.    identical.    identical.    identical.    identical.    identical.   \n",
      "Converged.\n",
      "\n",
      "done\n",
      "dvtditr (nuc) Version 7.429\n",
      "alg=A, model=DNA200 (2), 1.53 (4.59), -0.00 (-0.00), noshift, amax=0.0\n",
      "0 thread(s)\n",
      "\n",
      "\n",
      "Strategy:\n",
      " L-INS-i (Probably most accurate, very slow)\n",
      " Iterative refinement method (<16) with LOCAL pairwise alignment information\n",
      "\n",
      "If unsure which option to use, try 'mafft --auto input > output'.\n",
      "For more information, see 'mafft --help', 'mafft --man' and the mafft page.\n",
      "\n",
      "The default gap scoring scheme has been changed in version 7.110 (2013 Oct).\n",
      "It tends to insert more gaps into gap-rich regions than previous versions.\n",
      "To disable this change, add the --leavegappyregion option.\n",
      "\n",
      "CPU times: user 909 ms, sys: 215 ms, total: 1.12 s\n",
      "Wall time: 39 s\n"
     ]
    }
   ],
   "source": [
    "%%time\n",
    "! mafft --auto --reorder raw_data/formated_ids_full.fa > alignments/coi_complete_set_aligned_full_mafft.fa"
   ]
  },
  {
   "cell_type": "code",
   "execution_count": null,
   "metadata": {},
   "outputs": [],
   "source": []
  }
 ],
 "metadata": {
  "kernelspec": {
   "display_name": "Python 3",
   "language": "python",
   "name": "python3"
  },
  "language_info": {
   "codemirror_mode": {
    "name": "ipython",
    "version": 3
   },
   "file_extension": ".py",
   "mimetype": "text/x-python",
   "name": "python",
   "nbconvert_exporter": "python",
   "pygments_lexer": "ipython3",
   "version": "3.7.5"
  }
 },
 "nbformat": 4,
 "nbformat_minor": 4
}

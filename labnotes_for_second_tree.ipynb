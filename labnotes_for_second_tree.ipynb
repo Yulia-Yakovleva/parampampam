{
 "cells": [
  {
   "cell_type": "code",
   "execution_count": 1,
   "metadata": {},
   "outputs": [
    {
     "name": "stdout",
     "output_type": "stream",
     "text": [
      "99\r\n"
     ]
    }
   ],
   "source": [
    "! grep '>' -c raw_data/coi_complete_set_with_additions.txt"
   ]
  },
  {
   "cell_type": "code",
   "execution_count": 2,
   "metadata": {},
   "outputs": [
    {
     "name": "stdout",
     "output_type": "stream",
     "text": [
      "99\n"
     ]
    }
   ],
   "source": [
    "from Bio import SeqIO\n",
    "\n",
    "file = SeqIO.parse('raw_data/coi_complete_set_with_additions.txt', 'fasta')\n",
    "# print(len([rec for rec in file]))\n",
    "\n",
    "recs = [rec for rec in file]\n",
    "\n",
    "with open('raw_data/coi_complete_set_with_additions.fa', 'w') as out_f:\n",
    "    SeqIO.write(recs, out_f, 'fasta')\n",
    "    print(len(recs))"
   ]
  },
  {
   "cell_type": "code",
   "execution_count": 3,
   "metadata": {},
   "outputs": [
    {
     "name": "stdout",
     "output_type": "stream",
     "text": [
      "                                                  description  length\n",
      "D672B9D3B6                       K11-4B P.bursaria MT078144.1     769\n",
      "0DA736A8B4                HSG1-11 P.chlorelligerum KX669632.1     760\n",
      "C86BA12696      P.multimicronucleatum Wg8 JF741271.1  USA, VA     638\n",
      "2CA228C318   P.multimicronucleatum OLI-Parame-mult-01 FJ90...     704\n",
      "8A4F393EE2     P.multimicronucleatum MB2-5 JF741245.1 Moldova     638\n",
      "...                                                       ...     ...\n",
      "E9B50906F0                            IP P. bursaria JF304186     723\n",
      "94EE43C368                        Pb1C30 P. bursaria JX082041     769\n",
      "017078C790          OLI-Parame-burs-01 P. bursaria FJ905152.1     769\n",
      "6EA216BAD7                         P. chlorelligerum KX669634     760\n",
      "EB7EE0E3E7                     ShKm41 Kemerovo region, Russia     748\n",
      "\n",
      "[99 rows x 2 columns]\n"
     ]
    },
    {
     "data": {
      "text/plain": [
       "99"
      ]
     },
     "execution_count": 3,
     "metadata": {},
     "output_type": "execute_result"
    }
   ],
   "source": [
    "import uuid\n",
    "\n",
    "def my_random_string(string_length=10):\n",
    "    \"\"\"Returns a random string of length string_length.\"\"\"\n",
    "    random = str(uuid.uuid4()) # Convert UUID format to a Python string.\n",
    "    random = random.upper() # Make all characters uppercase.\n",
    "    random = random.replace(\"-\",\"\") # Remove the UUID '-'.\n",
    "    return random[0:string_length] # Return the random string.\n",
    "\n",
    "# print(my_random_string(6)) # For example, D9E50C\n",
    "\n",
    "from Bio import SeqIO\n",
    "\n",
    "names = {}\n",
    "\n",
    "recs_out = []\n",
    "\n",
    "recs = SeqIO.parse('raw_data/coi_complete_set_with_additions.fa', 'fasta')\n",
    "for el in recs:\n",
    "    rndm = my_random_string(10)\n",
    "    names[rndm] = [el.description, len(el)]\n",
    "    el.name = rndm\n",
    "    el.description = rndm\n",
    "    el.id = rndm\n",
    "    recs_out.append(el)    \n",
    "\n",
    "# print(names)\n",
    "\n",
    "import pandas as pd\n",
    "\n",
    "df = pd.DataFrame.from_dict(names, orient='index', columns=['description', 'length'])\n",
    "print(df)\n",
    "df.to_csv('raw_data/stats_final.tsv', sep='\\t')\n",
    "SeqIO.write(recs_out, 'raw_data/formated_ids_final.fa', 'fasta')"
   ]
  },
  {
   "cell_type": "code",
   "execution_count": 4,
   "metadata": {},
   "outputs": [
    {
     "name": "stdout",
     "output_type": "stream",
     "text": [
      "outputhat23=16\n",
      "treein = 0\n",
      "compacttree = 0\n",
      "stacksize: 8192 kb\n",
      "generating a scoring matrix for nucleotide (dist=200) ... done\n",
      "All-to-all alignment.\n",
      "tbfast-pair (nuc) Version 7.429\n",
      "alg=L, model=DNA200 (2), 2.00 (6.00), -0.10 (-0.30), noshift, amax=0.0\n",
      "0 thread(s)\n",
      "\n",
      "outputhat23=16\n",
      "Loading 'hat3.seed' ... \n",
      "done.\n",
      "Writing hat3 for iterative refinement\n",
      "generating a scoring matrix for nucleotide (dist=200) ... done\n",
      "Gap Penalty = -1.53, +0.00, +0.00\n",
      "tbutree = 1, compacttree = 0\n",
      "Constructing a UPGMA tree ... \n",
      "   90 / 99\n",
      "done.\n",
      "\n",
      "Progressive alignment ... \n",
      "STEP    97 /98 \n",
      "Reallocating..done. *alloclen = 2542\n",
      "STEP    98 /98 \n",
      "done.\n",
      "tbfast (nuc) Version 7.429\n",
      "alg=A, model=DNA200 (2), 1.53 (4.59), -0.00 (-0.00), noshift, amax=0.0\n",
      "1 thread(s)\n",
      "\n",
      "minimumweight = 0.000010\n",
      "autosubalignment = 0.000000\n",
      "nthread = 0\n",
      "randomseed = 0\n",
      "blosum 62 / kimura 200\n",
      "poffset = 0\n",
      "niter = 16\n",
      "sueff_global = 0.100000\n",
      "nadd = 16\n",
      "Loading 'hat3' ... done.\n",
      "generating a scoring matrix for nucleotide (dist=200) ... done\n",
      "\n",
      "   90 / 99\n",
      "Segment   1/  1    1- 785\n",
      "STEP 002-003-1  identical.    identical.    identical.    identical.    identical.    identical.    identical.    identical.    identical.    identical.    identical.    identical.    identical.    rejected. identical.    identical.    identical.    identical.    identical.    identical.    identical.    identical.    identical.    identical.    identical.    identical.    identical.    identical.    identical.    identical.    identical.    identical.    identical.    identical.    identical.    identical.    identical.    identical.    identical.    identical.    identical.    identical.    identical.    accepted. identical.    identical.    identical.    identical.    identical.    identical.    identical.    identical.    identical.    identical.    identical.    identical.    identical.    identical.    identical.    identical.    identical.    identical.    identical.    identical.    identical.    identical.    identical.    identical.    identical.    identical.    identical.    identical.    identical.    identical.    identical.    identical.    identical.    identical.    identical.    identical.    identical.    identical.    identical.    identical.   \n",
      "Converged.\n",
      "\n",
      "done\n",
      "dvtditr (nuc) Version 7.429\n",
      "alg=A, model=DNA200 (2), 1.53 (4.59), -0.00 (-0.00), noshift, amax=0.0\n",
      "0 thread(s)\n",
      "\n",
      "\n",
      "Strategy:\n",
      " L-INS-i (Probably most accurate, very slow)\n",
      " Iterative refinement method (<16) with LOCAL pairwise alignment information\n",
      "\n",
      "If unsure which option to use, try 'mafft --auto input > output'.\n",
      "For more information, see 'mafft --help', 'mafft --man' and the mafft page.\n",
      "\n",
      "The default gap scoring scheme has been changed in version 7.110 (2013 Oct).\n",
      "It tends to insert more gaps into gap-rich regions than previous versions.\n",
      "To disable this change, add the --leavegappyregion option.\n",
      "\n",
      "CPU times: user 1.35 s, sys: 192 ms, total: 1.54 s\n",
      "Wall time: 39.5 s\n"
     ]
    }
   ],
   "source": [
    "%%time\n",
    "! mafft --auto --reorder raw_data/formated_ids_final.fa > alignments/mafft_aln_fianl.fa"
   ]
  },
  {
   "cell_type": "code",
   "execution_count": 21,
   "metadata": {},
   "outputs": [
    {
     "name": "stdout",
     "output_type": "stream",
     "text": [
      "(((((((\"SD11-9 Russia, Saint Petersburg\":0.00175383,\"V105-1 MN264579.1 (Rautian) Russia, Vologda region\":0.00192297):0,\"PO16-1 (COIlongF needed) Russia, Pskov region\":0.00647963):0,\"CB8-2 MN264581.1 (Rautian) China\":0.0045835):0,(\"HSG3-10 Russia, Saint Petersburg\":0.00923455,((\"P.multimicronucleatum TRB101-1 JF741262.1 Russia, Baikal\":0.00448398,\"P.multimicronucleatum TRB101-4 JF741263.1 Russia, Baikal\":0.00186382):0,\"ShKm41 Kemerovo region, Russia\":0.0024948)1.00:0.047936)0.72:0.00960004):0,\"SP-1 Russia, St Petersburg\":0.00937687)1.00:0.130877,(\" “Paramecium germanicum” GO1 KM091240.1 Germany\":0.181628,((\" HSG1-11 P.chlorelligerum KX669632.1\":0.00154148,\" P. chlorelligerum KX669634\":0.00154901)1.00:0.687894,(\" OLI-Parame-burs-01 P. bursaria FJ905152.1\":0.0952012,(\" K11-4B P.bursaria MT078144.1\":0.00158917,(\"Pb1C30 P. bursaria JX082041\":0.00347288,\"IP P. bursaria JF304186\":0.00340667):0)1.00:0.144219)1.00:0.531424)1.00:0.196557)0.81:0.0701521)0.82:0.0490515,((((((((((((\" P.caudatum V-1 MT078150.1 Mexico\":0.00160915,\"P.caudatum OLI-Parame-caud-01 FJ905142.1 USA?\":0.00164145):0,\" P.caudatum K5-2 MT078151.1 Mexico\":0.00160098):0,\"P.caudatum BRA-RIO FN256282.1 haplotype PcCOI_b03 Brazil\":0.00436121)1.00:0.0116581,\" P.caudatum M3 KY399443.1\":0.0171976)0.84:0.00792122,\"P.caudatum PcC30 JX082093.1 China\":0.00200778)0.68:0.00367806,\"mito_caud_C083 USA, IN\":0.00598014)0.73:0.00563651,\" P. multimicronucleatum Kr113-3 JF741258.1 Russia, Krasnoyarsk\":0.00441333):0,\"Or4-4 Russia, Orenburg\":0.00156973):0,\"mito_caud_43c3d USA, IN\":0.00371194)1.00:0.070742,((((((((\"P.caudatum OLI-Parame-caud-02 FJ905148.1 Russia, SPb\":0.00150893,\"mito_caud_GB-E, UK\":0.00150941):0,\"mito_caud_C104 Spain\":0.00150833):0,\"P.caudatum CA JF304187.1 Cyprus\":0.0033595):0,(((\"P.caudatum SH42 MG013510.1 Germany\":0.00167204,\"P.multimicronucleatum GB4-26 MN264576.1 (Rautian) UK?\":0.00436744)0.94:0.00402245,\" P.caudatum RanNy1602-AP18 MG589328.1 Germany\":0.0017973):0,\"P.caudatum HUN-BA, FN256277.1 haplotype PcCOI_a12 Hungary\":0.0116968)0.80:0.00392749)1.00:0.0104947,\" P.caudatum POE-1 HQ149725.1 Portugal\":0.00857997):0,\" P.caudatum SLO-R FN256281.1 Slovenia\":0.00746059)0.64:0.00808374,\" P.caudatum G-E12 FN256263.1 Germany\":0.0122633)0.50:0.00713677,\" P.caudatum G-PL-2 FN256264.1 Germany\":0.00425827)1.00:0.0415032)1.00:0.0344663,\"mito_caud_C026 USA, LA\":0.099627)0.98:0.0248412,(\"P.caudatum INK-1 HQ149722.1 Indonesia\":0.00266004,(\" P.caudatum INP-3 HQ149724.1 Indonesia\":0.00422288,\" P.caudatum INL-1 HQ149723.1 Indonesia\":0.00186788)1.00:0.0110428)1.00:0.0700505)0.80:0.0376073,((((((((\" P.multimicronucleatum Wg8 JF741271.1  USA, VA\":0.00443324,\"P.multimicronucleatum Peniche31(ParameciumDB)Portugal\":0.00326388):0,\"OmN-1 USA, NE\":0.00834009)0.66:0.00444454,((\" P.multimicronucleatum L72-1 MT078145.1 Mexico\":0.00163228,\"ChP10-2 Mexico\":0.0038598)0.94:0.00404391,((\" P.multimicronucleatum K4-2 MT078146.1 Mexico\":0.00622438,\"R51-6 Mexico\":0.0015676):0,\"SMM80-11 Mexico\":0.0016357)0.99:0.00635293)1.00:0.0111207)0.98:0.0135593,(\"LB2 Mexico\":0.00154208,\"SK6-3 Mexico\":0.0015948)1.00:0.0266999)0.98:0.0185613,((((\" P.multimicronucleatum haplotype C3(1) MH544190.1 China\":0.00242022,\" P.multimicronucleatum haplotype C3(2) MH544191.1 China\":0.00276613)0.87:0.0054672,\" P.multimicronucleatum SPb63-2 JF741248.1 Russia, SPb\":0.00614086)0.77:0.00677613,\" P.multimicronucleatum BSP-7 AM072772.1 Brazil\":0.0606399)0.70:0.00817573,(((((((((((\" P.multimicronucleatum haplotype C7 MH544195.1 China\":0.00387723,\"G1-2 MN264582.1 (Rautian)\":0.00189861):0,\"P.multimicronucleatum AMA5-7 MN264578.1 (Rautian)\":0.00188009):0,\"CyP5-3 Cyprus\":0.00157549):0,\" P.multimicronucleatum ISN-11 AM072769.1 Italy\":0.00182825):0,\" P.multimicronucleatum haplotype C1(1) MH544185.1 China\":0.00158864):0,\"ID1-13 India\":0.00162941):0,\"MSA-5 Malta\":0.00161011):0,\" P.multimicronucleatum AH1-5 AM072768.1 Hawaii\":0.00433885):0,\"N16 (Ns2-16) Russia, Novosibirsk\":0.00623957):0,\" P.multimicronucleatum haplotype C6 MH544194.1 China\":0.00609302):0,\"ThK-16 Thailand\":0.00618838)1.00:0.0251278)0.91:0.0131602):0,((((((\" P.multimicronucleatum MB2-5 JF741245.1 Moldova\":0.00685626,\"ChP3-4 Mexico\":0.00361136):0,\" P.multimicronucleatum OLI-Parame-mult-03 FJ905145.1 Japan\":0.00155481):0,\" P.multimicronucleatum haplotype C12 MH544200.1 China\":0.00157021):0,\" P.multimicronucleatum Chp5-3 MT078147.1 Mexico\":0.00157646):0,\"E59-1B Mexico\":0.0015393):0,\"IP2-1 Italy\":0.00155067)1.00:0.046521)0.85:0.0187334,((((\" P.multimicronucleatum OLI-Parame-mult-01 FJ905143.1 USA?\":0.0017467,\" P.multimicronucleatum OLI-Parame-mult-02 FJ905144.1 USA?\":0.00163103)0.98:0.00823469,(\"N12 (AB9-8) USA, MA\":0.00384529,\" P.multimicronucleatum BR JF304189.1 USA, LA\":0.00400879)1.00:0.0157389)1.00:0.0389842,\" P.multimicronucleatum US_Bl 16I1 MK806287.1 USA, IN\":0.0281237)1.00:0.0588305,(((((((\" P.multimicronucleatum T42-1 MT078148.1 Mexico\":0.0016613,\" P.multimicronucleatum SMM81-1 MT078149.1 Mexico\":0.0016625):0,\"P.multimicronucleatum AM MN264577.1 (Rautian)\":0.00195927):0,\"P.multimicronucleatum mult M04(ParameciumDB)Australia\":0.0016405):0,\"CyL3-21 Cyprus\":0.00164708):0,\"strain 14 PP-2 Russia, Pskov region\":0.00593636):0,\"PL4-1 Portugal\":0.00396974):0,\"N6 (OP13) Russia, SPb\":0.028023)1.00:0.0589744)1.00:0.0533946)1.00:0.1301,(\"FT8 Paramecium sp.\":0.138507,(((\"227 MT318934 P.septaurelia\":0.114173,(\"AZ9-3 PPRIM.AZ9-3.MITO.1.G040 P.primaurelia\":0.106721,((\"TE PNOVA.TE.MITO.1.G040 P.novaurelia\":0.105172,\"N1A PQUAD.NiA.MITO.1.G040 P.quadecaurelia\":0.175487)0.92:0.038354,(\"V1-4 PBIAU.V1-4.MITO.1.G040 P.biaurelia\":0.15212,(\" 274 PDODE.274.MITO.1.G040 P.dodecaurelia\":0.10277,(\" 223 PDECA.223.MITO.1.G040 P.decaurelia\":0.134781,\" 51 M15281.1 P.tetraurelia\":0.195619)0.52:0.0295326)0.95:0.0393665)0.86:0.0361864)0.59:0.0216763)0.69:0.0293693)0.86:0.0635392,\" AZ8-4 PSEXA.AZ8-4.MITO.1.G040 P.sexaurelia\":0.153536)1.00:0.137237,\"M PJENN.M.MITO.1.G040 P.jenningsi\":0.0892743)1.00:0.37089)0.84:0.0560077)0.82:0.0286657);\n"
     ]
    }
   ],
   "source": [
    "from ete3 import Tree, faces, AttrFace, TreeStyle, NodeStyle\n",
    "import pandas as pd\n",
    "\n",
    "df = pd.read_csv('./raw_data/stats_final.tsv', sep='\\t', index_col=0)\n",
    "# print(df)\n",
    "\n",
    "with open('trees/tree_3/con_50_majrule.newick', 'r') as in_f:\n",
    "    with open('trees/tree_3/mb_ete_tree.newick', 'w') as out_f:\n",
    "        for line in in_f:\n",
    "            line = line.strip()\n",
    "            for el in df.index:\n",
    "                if el in line:\n",
    "                    new_name = '\"'+ df['description'][el]+'\"'\n",
    "                    line = line.replace(el, new_name)\n",
    "            out_f.write(line)\n",
    "            print(line)"
   ]
  },
  {
   "cell_type": "code",
   "execution_count": 23,
   "metadata": {},
   "outputs": [
    {
     "name": "stdout",
     "output_type": "stream",
     "text": [
      "(((((((SD11-9 Russia Saint Petersburg:0.00175383,V105-1 MN264579.1 (Rautian) Russia Vologda region:0.00192297):0,PO16-1 (COIlongF needed) Russia Pskov region:0.00647963):0,CB8-2 MN264581.1 (Rautian) China:0.0045835):0,(HSG3-10 Russia Saint Petersburg:0.00923455,((P.multimicronucleatum TRB101-1 JF741262.1 Russia Baikal:0.00448398,P.multimicronucleatum TRB101-4 JF741263.1 Russia Baikal:0.00186382):0,ShKm41 Kemerovo region Russia:0.0024948)1.00:0.047936)0.72:0.00960004):0,SP-1 Russia St Petersburg:0.00937687)1.00:0.130877,( “Paramecium germanicum” GO1 KM091240.1 Germany:0.181628,(( HSG1-11 P.chlorelligerum KX669632.1:0.00154148, P. chlorelligerum KX669634:0.00154901)1.00:0.687894,( OLI-Parame-burs-01 P. bursaria FJ905152.1:0.0952012,( K11-4B P.bursaria MT078144.1:0.00158917,(Pb1C30 P. bursaria JX082041:0.00347288,IP P. bursaria JF304186:0.00340667):0)1.00:0.144219)1.00:0.531424)1.00:0.196557)0.81:0.0701521)0.82:0.0490515,(((((((((((( P.caudatum V-1 MT078150.1 Mexico:0.00160915,P.caudatum OLI-Parame-caud-01 FJ905142.1 USA?:0.00164145):0, P.caudatum K5-2 MT078151.1 Mexico:0.00160098):0,P.caudatum BRA-RIO FN256282.1 haplotype PcCOI_b03 Brazil:0.00436121)1.00:0.0116581, P.caudatum M3 KY399443.1:0.0171976)0.84:0.00792122,P.caudatum PcC30 JX082093.1 China:0.00200778)0.68:0.00367806,mito_caud_C083 USA IN:0.00598014)0.73:0.00563651, P. multimicronucleatum Kr113-3 JF741258.1 Russia Krasnoyarsk:0.00441333):0,Or4-4 Russia Orenburg:0.00156973):0,mito_caud_43c3d USA IN:0.00371194)1.00:0.070742,((((((((P.caudatum OLI-Parame-caud-02 FJ905148.1 Russia SPb:0.00150893,mito_caud_GB-E UK:0.00150941):0,mito_caud_C104 Spain:0.00150833):0,P.caudatum CA JF304187.1 Cyprus:0.0033595):0,(((P.caudatum SH42 MG013510.1 Germany:0.00167204,P.multimicronucleatum GB4-26 MN264576.1 (Rautian) UK?:0.00436744)0.94:0.00402245, P.caudatum RanNy1602-AP18 MG589328.1 Germany:0.0017973):0,P.caudatum HUN-BA FN256277.1 haplotype PcCOI_a12 Hungary:0.0116968)0.80:0.00392749)1.00:0.0104947, P.caudatum POE-1 HQ149725.1 Portugal:0.00857997):0, P.caudatum SLO-R FN256281.1 Slovenia:0.00746059)0.64:0.00808374, P.caudatum G-E12 FN256263.1 Germany:0.0122633)0.50:0.00713677, P.caudatum G-PL-2 FN256264.1 Germany:0.00425827)1.00:0.0415032)1.00:0.0344663,mito_caud_C026 USA LA:0.099627)0.98:0.0248412,(P.caudatum INK-1 HQ149722.1 Indonesia:0.00266004,( P.caudatum INP-3 HQ149724.1 Indonesia:0.00422288, P.caudatum INL-1 HQ149723.1 Indonesia:0.00186788)1.00:0.0110428)1.00:0.0700505)0.80:0.0376073,(((((((( P.multimicronucleatum Wg8 JF741271.1  USA VA:0.00443324,P.multimicronucleatum Peniche31(ParameciumDB)Portugal:0.00326388):0,OmN-1 USA NE:0.00834009)0.66:0.00444454,(( P.multimicronucleatum L72-1 MT078145.1 Mexico:0.00163228,ChP10-2 Mexico:0.0038598)0.94:0.00404391,(( P.multimicronucleatum K4-2 MT078146.1 Mexico:0.00622438,R51-6 Mexico:0.0015676):0,SMM80-11 Mexico:0.0016357)0.99:0.00635293)1.00:0.0111207)0.98:0.0135593,(LB2 Mexico:0.00154208,SK6-3 Mexico:0.0015948)1.00:0.0266999)0.98:0.0185613,(((( P.multimicronucleatum haplotype C3(1) MH544190.1 China:0.00242022, P.multimicronucleatum haplotype C3(2) MH544191.1 China:0.00276613)0.87:0.0054672, P.multimicronucleatum SPb63-2 JF741248.1 Russia SPb:0.00614086)0.77:0.00677613, P.multimicronucleatum BSP-7 AM072772.1 Brazil:0.0606399)0.70:0.00817573,((((((((((( P.multimicronucleatum haplotype C7 MH544195.1 China:0.00387723,G1-2 MN264582.1 (Rautian):0.00189861):0,P.multimicronucleatum AMA5-7 MN264578.1 (Rautian):0.00188009):0,CyP5-3 Cyprus:0.00157549):0, P.multimicronucleatum ISN-11 AM072769.1 Italy:0.00182825):0, P.multimicronucleatum haplotype C1(1) MH544185.1 China:0.00158864):0,ID1-13 India:0.00162941):0,MSA-5 Malta:0.00161011):0, P.multimicronucleatum AH1-5 AM072768.1 Hawaii:0.00433885):0,N16 (Ns2-16) Russia Novosibirsk:0.00623957):0, P.multimicronucleatum haplotype C6 MH544194.1 China:0.00609302):0,ThK-16 Thailand:0.00618838)1.00:0.0251278)0.91:0.0131602):0,(((((( P.multimicronucleatum MB2-5 JF741245.1 Moldova:0.00685626,ChP3-4 Mexico:0.00361136):0, P.multimicronucleatum OLI-Parame-mult-03 FJ905145.1 Japan:0.00155481):0, P.multimicronucleatum haplotype C12 MH544200.1 China:0.00157021):0, P.multimicronucleatum Chp5-3 MT078147.1 Mexico:0.00157646):0,E59-1B Mexico:0.0015393):0,IP2-1 Italy:0.00155067)1.00:0.046521)0.85:0.0187334,(((( P.multimicronucleatum OLI-Parame-mult-01 FJ905143.1 USA?:0.0017467, P.multimicronucleatum OLI-Parame-mult-02 FJ905144.1 USA?:0.00163103)0.98:0.00823469,(N12 (AB9-8) USA MA:0.00384529, P.multimicronucleatum BR JF304189.1 USA LA:0.00400879)1.00:0.0157389)1.00:0.0389842, P.multimicronucleatum US_Bl 16I1 MK806287.1 USA IN:0.0281237)1.00:0.0588305,((((((( P.multimicronucleatum T42-1 MT078148.1 Mexico:0.0016613, P.multimicronucleatum SMM81-1 MT078149.1 Mexico:0.0016625):0,P.multimicronucleatum AM MN264577.1 (Rautian):0.00195927):0,P.multimicronucleatum mult M04(ParameciumDB)Australia:0.0016405):0,CyL3-21 Cyprus:0.00164708):0,strain 14 PP-2 Russia Pskov region:0.00593636):0,PL4-1 Portugal:0.00396974):0,N6 (OP13) Russia SPb:0.028023)1.00:0.0589744)1.00:0.0533946)1.00:0.1301,(FT8 Paramecium sp.:0.138507,(((227 MT318934 P.septaurelia:0.114173,(AZ9-3 PPRIM.AZ9-3.MITO.1.G040 P.primaurelia:0.106721,((TE PNOVA.TE.MITO.1.G040 P.novaurelia:0.105172,N1A PQUAD.NiA.MITO.1.G040 P.quadecaurelia:0.175487)0.92:0.038354,(V1-4 PBIAU.V1-4.MITO.1.G040 P.biaurelia:0.15212,( 274 PDODE.274.MITO.1.G040 P.dodecaurelia:0.10277,( 223 PDECA.223.MITO.1.G040 P.decaurelia:0.134781, 51 M15281.1 P.tetraurelia:0.195619)0.52:0.0295326)0.95:0.0393665)0.86:0.0361864)0.59:0.0216763)0.69:0.0293693)0.86:0.0635392, AZ8-4 PSEXA.AZ8-4.MITO.1.G040 P.sexaurelia:0.153536)1.00:0.137237,M PJENN.M.MITO.1.G040 P.jenningsi:0.0892743)1.00:0.37089)0.84:0.0560077)0.82:0.0286657);\n"
     ]
    }
   ],
   "source": [
    "from ete3 import Tree, faces, AttrFace, TreeStyle, NodeStyle\n",
    "import pandas as pd\n",
    "\n",
    "df = pd.read_csv('./raw_data/stats_final.tsv', sep='\\t', index_col=0)\n",
    "# print(df)\n",
    "\n",
    "with open('trees/tree_3/con_50_majrule.newick', 'r') as in_f:\n",
    "    with open('trees/tree_3/tmb_tree.newick', 'w') as out_f:\n",
    "        for line in in_f:\n",
    "            line = line.strip()\n",
    "            for el in df.index:\n",
    "                if el in line:\n",
    "                    new_name = df['description'][el].replace(',', '')\n",
    "                    line = line.replace(el, new_name)\n",
    "            out_f.write(line)\n",
    "            print(line)"
   ]
  },
  {
   "cell_type": "code",
   "execution_count": 28,
   "metadata": {},
   "outputs": [],
   "source": [
    "import pandas as pd\n",
    "\n",
    "df = pd.read_csv('./raw_data/stats_final.tsv', sep='\\t', index_col=0)\n",
    "# print(df)\n",
    "\n",
    "with open('trees/tree_3/mb_tree.newick', 'r') as in_f:\n",
    "    with open('trees/tree_3/mb_ete_tree_2.newick', 'w') as out_f:\n",
    "        for line in in_f:\n",
    "            line = line.strip()\n",
    "            for ind, name in zip(df.index, df.description):\n",
    "                # print(ind, name)\n",
    "                name = name.lstrip(' ')\n",
    "                name = name.replace(',', '')\n",
    "                if name in line:\n",
    "                    new_name = '\"' + df['description'][ind] + '\"'\n",
    "                    line = line.replace(name, new_name)\n",
    "            out_f.write(line)"
   ]
  },
  {
   "cell_type": "code",
   "execution_count": null,
   "metadata": {},
   "outputs": [],
   "source": [
    "from ete3 import Tree, faces, AttrFace, TreeStyle, NodeStyle\n",
    "\n",
    "t = Tree('trees/tree_3/mb_ete_tree_2.newick', quoted_node_names=True)\n",
    "# print(t)\n",
    "\n",
    "for node in t.traverse():\n",
    "    node.img_style['size'] = 0\n",
    "    \n",
    "t.ladderize(direction=1)\n",
    "ts = TreeStyle()\n",
    "ts.show_branch_support = True\n",
    "ts.scale =  700\n",
    "# ts.mode = \"c\"\n",
    "t.show(tree_style=ts)\n",
    "#t.render('trees/tree_3/mb_ete_tree.pdf', dpi=1200, tree_style=ts)"
   ]
  },
  {
   "cell_type": "code",
   "execution_count": null,
   "metadata": {},
   "outputs": [],
   "source": []
  }
 ],
 "metadata": {
  "kernelspec": {
   "display_name": "Python 3",
   "language": "python",
   "name": "python3"
  },
  "language_info": {
   "codemirror_mode": {
    "name": "ipython",
    "version": 3
   },
   "file_extension": ".py",
   "mimetype": "text/x-python",
   "name": "python",
   "nbconvert_exporter": "python",
   "pygments_lexer": "ipython3",
   "version": "3.7.5"
  }
 },
 "nbformat": 4,
 "nbformat_minor": 4
}

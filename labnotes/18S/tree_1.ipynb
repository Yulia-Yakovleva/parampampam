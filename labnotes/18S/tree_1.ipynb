{
 "cells": [
  {
   "cell_type": "code",
   "execution_count": 71,
   "metadata": {},
   "outputs": [
    {
     "name": "stdout",
     "output_type": "stream",
     "text": [
      "165\r\n"
     ]
    }
   ],
   "source": [
    "! grep -c '>' ../../raw_data/docx_and_txt/18S/seqdump_4_complete_set_from_GB.txt"
   ]
  },
  {
   "cell_type": "code",
   "execution_count": 72,
   "metadata": {
    "scrolled": true
   },
   "outputs": [
    {
     "name": "stdout",
     "output_type": "stream",
     "text": [
      "165\n"
     ]
    }
   ],
   "source": [
    "from Bio import SeqIO\n",
    "\n",
    "file = SeqIO.parse('../../raw_data/docx_and_txt/18S/seqdump_4_complete_set_from_GB.txt', 'fasta')\n",
    "\n",
    "print(len([rec for rec in file]))\n",
    "\n",
    "# кольпода идет лесом"
   ]
  },
  {
   "cell_type": "code",
   "execution_count": 73,
   "metadata": {},
   "outputs": [
    {
     "name": "stdout",
     "output_type": "stream",
     "text": [
      "                                                  description  length\n",
      "98BD2DF05B  HG315606.1 Paramecium multimicronucleatum stra...    1710\n",
      "86CAAAE040  LT628494.1 Paramecium multimicronucleatum stra...    1710\n",
      "0F6171BBB8  LT549006.1 Paramecium multimicronucleatum stra...    1710\n",
      "DAB65D7F5D  LT549005.1 Paramecium multimicronucleatum stra...    1710\n",
      "944F05A6E0  HG315605.1 Paramecium multimicronucleatum stra...    1710\n",
      "...                                                       ...     ...\n",
      "B7EDC46888               AB725340.1 Uncultured clone: MP29-87    1737\n",
      "012B2C90DA             LT993485.1 uncultured Specimen ID L_15    1215\n",
      "1333D80DFD  OBAT01029766.1 metagenome genome assembly, con...    1718\n",
      "7A530B862C  OBEP011407967.1 metagenome genome assembly, co...    1718\n",
      "F521B1CF13  OBRS01776142.1 metagenome genome assembly, con...    1718\n",
      "\n",
      "[165 rows x 2 columns]\n"
     ]
    },
    {
     "data": {
      "text/plain": [
       "165"
      ]
     },
     "execution_count": 73,
     "metadata": {},
     "output_type": "execute_result"
    }
   ],
   "source": [
    "# import uuid\n",
    "# from Bio import SeqIO\n",
    "\n",
    "\n",
    "# def my_random_string(string_length=10):\n",
    "#     \"\"\"Returns a random string of length string_length.\"\"\"\n",
    "#     random = str(uuid.uuid4()) # Convert UUID format to a Python string.\n",
    "#     random = random.upper() # Make all characters uppercase.\n",
    "#     random = random.replace(\"-\",\"\") # Remove the UUID '-'.\n",
    "#     return random[0:string_length] # Return the random string.\n",
    "\n",
    "\n",
    "# # print(my_random_string(6)) # For example, D9E50C\n",
    "\n",
    "# names = {}\n",
    "\n",
    "# recs_out = []\n",
    "\n",
    "# recs = SeqIO.parse('../../raw_data/docx_and_txt/18S/seqdump_4_complete_set_from_GB.txt', 'fasta')\n",
    "# for el in recs:\n",
    "#     rndm = my_random_string(10)\n",
    "#     names[rndm] = [el.description, len(el)]\n",
    "#     el.name = rndm\n",
    "#     el.description = rndm\n",
    "#     el.id = rndm\n",
    "#     recs_out.append(el)    \n",
    "\n",
    "# # print(names)\n",
    "\n",
    "# import pandas as pd\n",
    "\n",
    "# df = pd.DataFrame.from_dict(names, orient='index', columns=['description', 'length'])\n",
    "# print(df)\n",
    "# df.to_csv('../../raw_data/stats/18S/total_stats.tsv', sep='\\t')\n",
    "# SeqIO.write(recs_out, '../../raw_data/faa_files/18S/formated_id.fa', 'fasta')"
   ]
  },
  {
   "cell_type": "code",
   "execution_count": 76,
   "metadata": {},
   "outputs": [
    {
     "name": "stdout",
     "output_type": "stream",
     "text": [
      "outputhat23=16\n",
      "treein = 0\n",
      "compacttree = 0\n",
      "stacksize: 8192 kb\n",
      "generating a scoring matrix for nucleotide (dist=200) ... done\n",
      "All-to-all alignment.\n",
      "tbfast-pair (nuc) Version 7.429\n",
      "alg=L, model=DNA200 (2), 2.00 (6.00), -0.10 (-0.30), noshift, amax=0.0\n",
      "0 thread(s)\n",
      "\n",
      "outputhat23=16\n",
      "Loading 'hat3.seed' ... \n",
      "done.\n",
      "Writing hat3 for iterative refinement\n",
      "generating a scoring matrix for nucleotide (dist=200) ... done\n",
      "Gap Penalty = -1.53, +0.00, +0.00\n",
      "tbutree = 1, compacttree = 0\n",
      "Constructing a UPGMA tree ... \n",
      "  160 / 165\n",
      "done.\n",
      "\n",
      "Progressive alignment ... \n",
      "STEP   149 /164 \n",
      "Reallocating..done. *alloclen = 6664\n",
      "STEP   164 /164 \n",
      "done.\n",
      "tbfast (nuc) Version 7.429\n",
      "alg=A, model=DNA200 (2), 1.53 (4.59), -0.00 (-0.00), noshift, amax=0.0\n",
      "1 thread(s)\n",
      "\n",
      "minimumweight = 0.000010\n",
      "autosubalignment = 0.000000\n",
      "nthread = 0\n",
      "randomseed = 0\n",
      "blosum 62 / kimura 200\n",
      "poffset = 0\n",
      "niter = 16\n",
      "sueff_global = 0.100000\n",
      "nadd = 16\n",
      "Loading 'hat3' ... done.\n",
      "generating a scoring matrix for nucleotide (dist=200) ... done\n",
      "\n",
      "  160 / 165\n",
      "Segment   1/  1    1-3125\n"
     ]
    },
    {
     "name": "stdout",
     "output_type": "stream",
     "text": [
      "STEP 003-025-0  identical.    identical.    identical.    identical.    identical.    accepted. identical.    identical.    identical.    identical.    rejected. accepted. identical.    identical.    identical.    identical.    identical.    identical.    identical.    identical.    identical.    identical.    identical.    identical.    identical.    identical.    identical.    identical.    identical.    identical.    identical.    identical.    identical.    identical.    identical.    identical.    identical.    identical.    identical.    identical.    accepted. identical.    identical.    identical.    identical.    identical.    identical.    identical.    identical.    identical.    identical.    identical.    identical.    identical.    identical.    identical.    identical.    identical.    identical.    identical.    identical.    identical.    identical.    identical.    identical.    identical.    identical.    identical.    identical.    identical.    identical.    identical.    identical.    identical.    identical.    identical.    identical.    identical.    identical.    identical.    identical.    identical.    identical.    identical.    identical.    identical.    identical.    identical.    identical.    identical.    identical.    identical.    identical.    identical.    identical.    identical.    identical.    identical.    identical.    identical.    identical.    identical.    identical.    identical.    identical.    identical.    identical.    identical.    identical.    identical.    identical.    identical.    identical.    identical.    identical.    identical.    identical.    identical.    identical.    identical.    identical.    identical.    identical.    identical.    identical.    identical.    identical.    identical.    identical.    identical.    identical.    identical.    identical.    identical.    identical.    identical.    identical.    identical.    accepted. identical.    identical.    identical.    identical.    rejected. identical.    identical.    identical.    identical.    identical.    identical.    accepted. identical.    identical.    identical.    identical.    rejected. identical.    rejected. identical.    rejected. identical.    identical.    rejected. identical.    identical.    accepted. identical.    identical.    identical.    rejected. identical.    identical.    identical.    identical.    identical.    identical.    identical.    rejected. accepted. identical.    identical.    identical.    rejected. identical.    identical.    identical.    rejected. identical.    identical.    identical.    identical.    identical.    identical.    identical.    rejected. identical.    identical.    identical.    identical.    identical.    identical.    identical.    identical.    identical.    identical.    identical.    identical.    accepted. accepted. identical.    identical.    identical.    identical.    identical.    accepted. rejected. rejected. accepted. identical.    rejected. rejected. identical.    identical.    identical.    accepted. identical.    identical.    rejected. identical.    identical.    identical.    identical.    identical.    identical.    identical.    identical.    rejected. identical.    accepted. identical.    identical.    identical.    identical.    identical.    identical.    identical.    identical.    identical.    identical.    accepted. identical.    identical.    identical.    rejected. identical.    identical.    identical.    identical.    identical.    accepted. accepted. identical.    identical.    identical.    accepted. identical.    accepted. accepted. accepted. identical.    accepted. rejected. identical.    accepted. identical.    accepted. identical.    identical.    rejected. identical.    identical.    identical.    identical.    identical.    identical.    identical.    rejected. identical.    identical.    identical.    identical.    identical.    identical.    identical.    identical.    identical.    identical.    identical.    rejected. identical.    identical.    identical.    identical.    rejected. identical.    identical.    identical.    identical.    identical.    identical.    identical.    identical.    identical.    identical.    identical.    rejected. identical.    identical.    identical.    identical.    accepted. identical.    rejected. identical.    identical.    identical.    identical.    identical.    rejected. identical.    identical.    identical.    accepted. identical.    accepted. accepted. accepted. identical.    rejected. identical.    rejected. identical.    rejected. identical.    accepted. identical.    identical.    identical.    accepted. accepted. identical.    identical.    identical.    identical.    identical.    identical.    identical.    identical.    identical.    identical.    identical.    identical.    identical.    identical.    identical.    identical.    identical.    identical.    identical.    identical.    identical.    identical.    identical.    identical.    identical.    identical.    identical.    identical.    identical.    identical.    identical.    identical.    identical.    identical.    identical.    identical.    identical.    rejected. identical.    identical.    identical.    identical.    identical.    identical.    identical.    identical.    identical.    identical.    identical.    identical.    identical.    identical.    rejected. identical.    identical.    identical.    identical.    identical.    identical.    identical.    rejected. rejected. identical.    identical.    identical.    identical.    identical.    identical.    identical.    identical.    identical.    identical.    identical.    identical.    identical.    identical.    identical.    identical.    identical.    identical.    identical.    identical.    identical.    identical.    identical.    identical.    identical.    identical.    identical.    identical.    identical.    identical.    identical.    identical.    identical.    identical.    identical.    identical.    identical.    identical.    accepted. identical.    identical.    identical.    identical.    identical.    identical.    identical.    identical.    identical.    identical.    identical.    identical.    identical.    identical.    identical.    identical.    identical.    identical.    identical.    identical.    identical.    identical.    identical.    rejected. identical.    identical.    identical.    identical.    identical.    identical.    identical.    identical.    identical.    identical.    identical.    identical.    identical.    identical.    identical.    identical.    identical.    identical.    identical.    identical.    identical.    identical.    identical.    identical.    identical.    identical.    identical.    identical.    identical.    identical.    identical.    identical.    identical.    identical.    identical.    identical.    identical.    identical.    identical.    identical.    identical.    identical.    identical.    identical.    identical.    identical.    identical.    identical.    identical.    identical.    identical.    identical.    identical.    identical.    identical.    identical.    identical.    identical.    identical.    identical.    identical.    identical.    identical.    identical.    identical.    identical.    identical.    identical.    identical.    identical.    identical.    identical.    identical.    identical.    identical.    identical.    rejected. identical.    identical.    identical.    identical.    identical.    identical.    identical.    identical.    identical.    identical.    identical.    identical.    identical.    identical.    identical.    identical.    identical.    identical.    identical.    identical.    identical.    rejected. identical.    identical.    identical.    identical.    identical.    identical.    identical.    identical.    identical.    identical.    identical.    identical.    identical.    identical.    identical.    identical.    identical.    identical.    identical.    identical.    identical.    identical.    identical.    identical.    identical.    identical.    identical.    identical.    identical.    identical.   "
     ]
    },
    {
     "name": "stdout",
     "output_type": "stream",
     "text": [
      "STEP 003-105-1  identical.    identical.    identical.    identical.    identical.    identical.    identical.    identical.    identical.    identical.    identical.    identical.    identical.    identical.    identical.    identical.    identical.    identical.    identical.    identical.    identical.    identical.    identical.    identical.    identical.    identical.    identical.    identical.    identical.    identical.    identical.    identical.    identical.    identical.    identical.    identical.    identical.    identical.    identical.    identical.    identical.    identical.    identical.    identical.    identical.    identical.    identical.    rejected. identical.    identical.    identical.    identical.    identical.    identical.    identical.    identical.    identical.    identical.    identical.    identical.    identical.    identical.    identical.    identical.    identical.    identical.    identical.    identical.    identical.    identical.    identical.    identical.    identical.    identical.    identical.    identical.    identical.    identical.    identical.    identical.    identical.    identical.    identical.    identical.    identical.    identical.    identical.    identical.    identical.    identical.    identical.    identical.    identical.    identical.    identical.    identical.    identical.    identical.    identical.    identical.    identical.    identical.    identical.    identical.    identical.    identical.    identical.    identical.    identical.    identical.    rejected. rejected. identical.    identical.    identical.    identical.    identical.    rejected. identical.    identical.    identical.    identical.    identical.    identical.    identical.    identical.    identical.    identical.    identical.    identical.    identical.    identical.    rejected.\n",
      "Converged.\n",
      "\n",
      "done\n",
      "dvtditr (nuc) Version 7.429\n",
      "alg=A, model=DNA200 (2), 1.53 (4.59), -0.00 (-0.00), noshift, amax=0.0\n",
      "0 thread(s)\n",
      "\n",
      "\n",
      "Strategy:\n",
      " L-INS-i (Probably most accurate, very slow)\n",
      " Iterative refinement method (<16) with LOCAL pairwise alignment information\n",
      "\n",
      "If unsure which option to use, try 'mafft --auto input > output'.\n",
      "For more information, see 'mafft --help', 'mafft --man' and the mafft page.\n",
      "\n",
      "The default gap scoring scheme has been changed in version 7.110 (2013 Oct).\n",
      "It tends to insert more gaps into gap-rich regions than previous versions.\n",
      "To disable this change, add the --leavegappyregion option.\n",
      "\n",
      "CPU times: user 10.3 s, sys: 1.83 s, total: 12.1 s\n",
      "Wall time: 9min 9s\n"
     ]
    }
   ],
   "source": [
    "%%time\n",
    "! mafft --maxiterate 1000 --localpair --reorder ../../raw_data/faa_files/18S/formated_id.fa > ../../alignments/18S/formated_id.fa"
   ]
  },
  {
   "cell_type": "code",
   "execution_count": 122,
   "metadata": {
    "scrolled": true
   },
   "outputs": [
    {
     "name": "stdout",
     "output_type": "stream",
     "text": [
      "(OmN-1 USA NE:0.00000100000050002909,(LB-1:0.00140271829992266793,(HG315607.1 Paramecium multimicronucleatum strain PS23:0.00000100000050002909,( Pmmn_4_18S_final:0.00072464293285505563,(HG315605.1 Paramecium multimicronucleatum strain LSA Italy:0.00145324693923378672,(HG315606.1 Paramecium multimicronucleatum strain Pm Europe:0.00000100000050002909,((ChP5-3:0.00000100000050002909,((K4-2:0.00000100000050002909,L72-1:0.00000100000050002909)18:0.00000100000050002909,ChP10-2:0.00000100000050002909)21:0.00000100000050002909)70:0.00000100000050002909,(Or4-3:0.00143894294320912356,((MSA-5:0.00437807902899577800,((((HE650906.1 Paramecium multimicronucleatum clone FT1 Pakistan:0.00143762196817696377,HE662761.2 Paramecium multimicronucleatum strain FT4 Pakistan:0.00143739995153748684)17:0.00000100000050002909,((AJ548822.1 Paramecium sp. BR3 partial 18S rRNA gene strain BR3:0.00748868464423484929,HE662762.2 Paramecium multimicronucleatum strain FT5 Pakistan:0.00806708394288022795)65:0.00067694762998145926,FR869987.1 Paramecium sp. isolate para200 Pakistan:0.00144385096099208994)12:0.00000100000050002909)46:0.00000100000050002909,HE650907.2 Paramecium multimicronucleatum strain FT2 Pakistan:0.00727563732190208198)66:0.00071880803140823163,((((LT549005.1 Paramecium multimicronucleatum strain TP2 India:0.00000100000050002909,(LT549006.1 Paramecium multimicronucleatum strain PC6 India:0.00000100000050002909,( KJ755359 Paramecium sp. BNB-2015 P.grohmannae:0.01111677927489116736,N16 Ns2-16:0.00057664258295595178)17:0.00002366622027540190)2:0.00000100000050002909)3:0.00000100000050002909,LT628494.1 Paramecium multimicronucleatum strain AC2 India:0.00000100000050002909)9:0.00000100000050002909,MG994988.1 Paramecium multimicronucleatum strain AD6 small subunit ribosomal RNA gene partial sequence:0.05798779123684205672)8:0.00000100000050002909,N17 Vv:0.00071958184781629726)17:0.00011499450612248460)4:0.00000100000050002909)22:0.00143898261647850789,(((((((FJ868200.1 Frontonia elegans isolate LWW08112804 small subunit ribosomal RNA gene partial sequence:0.01063504863914333312,(LT993485.1 uncultured Specimen ID L_15:0.00292038633889610570,FJ868198.1 Frontonia ocularis isolate LWW08112801 small subunit ribosomal RNA gene partial sequence:0.00000100000050002909)100:0.01306913394389858790)97:0.00768851371695674583,((MG456578.1 Frontonia anatolica isolate FANT01 small subunit ribosomal RNA gene partial sequence:0.01436255589223164181,FJ868201.1 Frontonia pusilla isolate LWW08112805 small subunit ribosomal RNA gene partial sequence:0.02421560990819218370)41:0.00272224456443169362,KY887580.1 Frontonia sp. isolate AP7 small subunit ribosomal RNA gene partial sequence:0.01008020107953628078)31:0.00219534239994495462)88:0.01535787305859147474,((MF926592.1 Disematostoma minor isolate FXP201070101 small subunit ribosomal RNA gene partial sequence:0.04896818824583749896,AB725340.1 Uncultured clone MP29-87:0.05197251277722023111)100:0.02609390336993990672,(((FJ868199.1 Frontonia elegans isolate LWW08112803 small subunit ribosomal RNA gene partial sequence:0.00141627459514456419,FJ876953.1 Frontonia magna isolate CXR08040803 18S small subunit ribosomal RNA gene complete sequence:0.00070785269946393829)100:0.00676658580593807093,(HM140397.1 Frontonia sp. SNK-2011b isolate KR-09120101 small subunit ribosomal RNA gene partial sequence macronuclear:0.00286650611592239538,FJ868202.1 Frontonia subtropica isolate LWW08122203 small subunit ribosomal RNA gene partial sequence:0.00138861471495590008)100:0.00715729398716482331)100:0.02718686349774090960,DQ883820.1 Frontonia tchibisovae strain QD-pop2 small subunit ribosomal RNA gene complete sequence:0.01431235177288755524)100:0.03060137155881007681)100:0.03579050069073334839)100:0.04866190407070760532,((AM236094.1 Paramecium duboscqui partial 18S rRNA gene strain Ku4-8:0.00533922219351788772,((((((HE819874.1 Paramecium duboscqui genomic DNA containing 18S rRNA gene ITS1 5.8S rRNA gene ITS2 and 28S rRNA gene strain IG2-1:0.00000100000050002909,HE819878.1 Paramecium duboscqui genomic DNA containing 18S rRNA gene ITS1 5.8S rRNA gene ITS2 and 28S rRNA gene strain Tub2:0.00000100000050002909)14:0.00000100000050002909,HE819873.1 Paramecium duboscqui genomic DNA containing 18S rRNA gene ITS1 5.8S rRNA gene ITS2 and 28S rRNA gene strain AWH9-4:0.00000100000050002909)8:0.00000100000050002909,HE819875.1 Paramecium duboscqui genomic DNA containing 18S rRNA gene ITS1 5.8S rRNA gene ITS2 and 28S rRNA gene strain In05:0.00000100000050002909)4:0.00000100000050002909,HE819876.1 Paramecium duboscqui genomic DNA containing 18S rRNA gene ITS1 5.8S rRNA gene ITS2 and 28S rRNA gene strain Pd.2:0.00000100000050002909)10:0.00000100000050002909,HE819877.1 Paramecium duboscqui genomic DNA containing 18S rRNA gene ITS1 5.8S rRNA gene ITS2 and 28S rRNA gene strain Ppd-3:0.00000100000050002909)88:0.00041902179112144982,(HE819872.1 Paramecium duboscqui genomic DNA containing 18S rRNA gene ITS1 5.8S rRNA gene ITS2 and 28S rRNA gene strain BB8:0.00000100000050002909,HE819871.1 Paramecium duboscqui genomic DNA containing 18S rRNA gene ITS1 5.8S rRNA gene ITS2 and 28S rRNA gene strain 702:0.00000100000050002909)92:0.00101680301428638711)99:0.00557790177262688230)100:0.02189195429483015154,((AB206544.1 Paramecium bursaria gene for 18S ribosomal RNA partial sequence strainPB-SW1:0.00232169650760874740,(((KC495066.1 Paramecium bursaria clone YD-2010-3 18S ribosomal RNA gene partial sequence macronuclear:0.00000100000050002909,KC495066.1 Paramecium bursaria clone YD-2010-3 18S ribosomal RNA gene partial sequence macronuclear:0.00000100000050002909)93:0.00149427126518730823,AB206537.1 Paramecium bursaria gene for 18S ribosomal RNA partial sequence strainOK1:0.00000100000050002909)100:0.01152651068198123387,(AF100314.1 Paramecium bursaria 18S ribosomal RNA gene partial sequence:0.00153403089329564040,(AB252001.1 Paramecium bursaria gene for 18S ribosomal RNA partial sequence strain CCAP 1660/12:0.00000100000050002909,((LN869940.1 Paramecium sp. aLdG3 partial 18S rRNA gene isolate aLdG3 Paramecium cf. bursaria:0.00000100000050002909,MG589316.1 Paramecium bursaria strain 1M-2 18S ribosomal RNA gene partial sequence:0.00000100000050002909)36:0.00000100000050002909,MG589318.1 Paramecium bursaria strain VL 12-10 18S ribosomal RNA gene partial sequence:0.00000100000050002909)100:0.00000100000050002909)99:0.00000100000050002909)85:0.00000100000050002909)76:0.00677411700840816876)100:0.08843655048512455430,((KM091234.1 Paramecium buetschlii 18S ribosomal RNA gene partial sequence:0.01215588129448155232,((OBEP011407967.1 metagenome genome assembly contig sd11A-TGTGCTGGCTCTCTTCATTCATAATATCAT-contig-1-11749 whole genome shotgun sequence:0.00000100000050002909,OBRS01776142.1 metagenome genome assembly contig sd11A_TGTGCTGGCTCTCTTCATTCATAATATCAT_contig_1_11749 whole genome shotgun sequence:0.00000100000050002909)36:0.00000100000050002909,OBAT01029766.1 metagenome genome assembly contig OTU29766size=1 whole genome shotgun sequence:0.00000100000050002909)100:0.02316594540298601290)90:0.01181491316834787191,(MG573199.1 Paramecium putrinum strain ETu 7-4 small subunit ribosomal RNA gene partial sequence internal transcribed spacer 1 5.8S ribosomal RNA gene and internal transcribed spacer 2 complete sequence and large subunit ribosomal RNA gene partial sequence:0.00724680491644784895,AF255360.1 Paramecium putrinum small subunit ribosomal RNA gene partial sequence:0.00714082045954733246)100:0.03588894539393212846)27:0.00261934206978969852)82:0.00757983509291966940)82:0.01497184094139718778)95:0.01769464680743385726,(((KX669629.1 Paramecium chlorelligerum strain HSG1-11 small subunit ribosomal RNA gene partial sequence internal transcribed spacer 1 5.8S ribosomal RNA gene and internal transcribed spacer 2 complete sequence and large subunit ribosomal RNA gene partial sequence:0.00000100000050002909,KX669630.1 Paramecium chlorelligerum strain HSG2-12 small subunit ribosomal RNA gene partial sequence internal transcribed spacer 1 5.8S ribosomal RNA gene and internal transcribed spacer 2 complete sequence and large subunit ribosomal RNA gene partial sequence:0.00000100000050002909)93:0.00140931394260225985,((KM091235.1 Paramecium chlorelligerum 18S ribosomal RNA gene partial sequence:0.00000100000050002909,JX010740.1 Paramecium chlorelligerum isolate Constance 18S ribosomal RNA gene partial sequence:0.00157805431780247201)56:0.00000100000050002909,KX669631.1 Paramecium chlorelligerum small subunit ribosomal RNA gene partial sequence internal transcribed spacer 1 5.8S ribosomal RNA gene and internal transcribed spacer 2 complete sequence and large subunit ribosomal RNA gene partial sequence:0.00000100000050002909)50:0.00000100000050002909)100:0.03745156249053757658,((((KY855562.1 Paramecium polycaryum isolate TBS3 small subunit ribosomal RNA gene partial sequence:0.00000100000050002909,(LT628489.1 Paramecium polycaryum partial 18S rRNA gene strain DK:0.00000100000050002909,LT628488.1 Paramecium polycaryum partial 18S rRNA gene strain GD1:0.00000100000050002909)33:0.00000100000050002909)94:0.00000100000050002909,AF100313.1 Paramecium polycaryum 18S ribosomal RNA gene partial sequence:0.00000100000050002909)100:0.06910377030894895856,((AF255362.1 Paramecium woodruffi small subunit ribosomal RNA gene partial sequence:0.00165258936778134497,(((HE978251.1 Paramecium nephridiatum partial 18S rRNA gene strain PAR population:0.00000100000050002909,MK764889.1 Paramecium nephridiatum strain BMS16-23 small subunit ribosomal RNA gene partial sequence:0.00000100000050002909)5:0.00000100000050002909,(MK764889.1 Paramecium nephridiatum strain BMS16-23 small subunit ribosomal RNA gene partial sequence:0.00000100000050002909,MG573198.1 Paramecium nephridiatum strain Sr 2-6 small subunit ribosomal RNA gene partial sequence internal transcribed spacer 1 5.8S ribosomal RNA gene and internal transcribed spacer 2 complete sequence and large subunit ribosomal RNA gene partial sequence:0.00000100000050002909)43:0.00000100000050002909)78:0.00000100000050002909,((HM140398.1 Paramecium duboscqui isolate KR-09052101 small subunit ribosomal RNA gene partial sequence macronuclear:0.00211276725088220757,MK764894.1 Paramecium nephridiatum strain BMS16-34 small subunit ribosomal RNA gene partial sequence:0.00000100000050002909)89:0.00000100000050002909,AF100316.1 Paramecium nephridiatum strain BB3-9 18S ribosomal RNA gene partial sequence:0.00000100000050002909)74:0.00000100000050002909)94:0.00196374901573501646)94:0.00466564592041382106,KM091237.1 Paramecium sp. HB2 18S ribosomal RNA gene partial sequence:0.00117247398255849945)100:0.02495139150370907083)65:0.00769024944979986112,((MG018200.1 Paramecium calkinsi strain CyL 1-24 small subunit ribosomal RNA gene partial sequence internal transcribed spacer 1 5.8S ribosomal RNA gene and internal transcribed spacer 2 complete sequence and large subunit ribosomal RNA gene partial sequence:0.00000100000050002909,KY996811.1 Paramecium calkinsi strain CyL 8-33 small subunit ribosomal RNA gene partial sequence internal transcribed spacer 1 5.8S ribosomal RNA gene and internal transcribed spacer 2 complete sequence and large subunit ribosomal RNA gene partial sequence:0.00000100000050002909)100:0.00442825225036524300,(MH819561.1 Paramecium calkinsi isolate brackish water small subunit ribosomal RNA gene partial sequence:0.00000100000050002909,(LT993464.1 uncultured Specimen ID 19:0.00221425505954588433,(((FJ875142.1 Paramecium sp. CXR08032303 18S small subunit ribosomal RNA gene complete sequence:0.00144887716384635608,KY855553.1 Paramecium calkinsi isolate A522 small subunit ribosomal RNA gene partial sequence:0.00219876978659535498)37:0.00000100000050002909,(KY855561.1 Paramecium cf. calkinsi isolate KWBL12 small subunit ribosomal RNA gene partial sequence:0.00000100000050002909,FR869986.1 Paramecium sp. paraGC partial 18S rRNA gene isolate paraGC:0.00072607015224386573)100:0.00366650905091603840)74:0.00146208957742095065,MT012297.1 Paramecium calkinsi isolate 39 small subunit ribosomal RNA gene partial sequence:0.00369615781329189329)59:0.00146517871690273675)31:0.00071160894454731826)86:0.00674635012445861087)100:0.05459135584145483056)45:0.00922283178594592891)32:0.00890441889984433174)100:0.02650471695215681628,(((((((K5-2:0.00000100000050002909,(((((MG589310.1 Paramecium caudatum strain Sp 11-8 18S ribosomal RNA gene partial sequence:0.00000100000050002909,(MG589311.1 Paramecium caudatum strain Sp 9-4 18S ribosomal RNA gene partial sequence:0.00000100000050002909,MG589313.1 Paramecium caudatum strain VL 10-1 18S ribosomal RNA gene partial sequence:0.00000100000050002909)14:0.00000100000050002909)2:0.00000100000050002909,(MG697233.1 Paramecium caudatum strain Sp 9-22 small subunit ribosomal RNA gene partial sequence:0.00000100000050002909,(MG589312.1 Paramecium caudatum strain Sp 9-5 18S ribosomal RNA gene partial sequence:0.00000100000050002909,(MG009439.1 Paramecium caudatum strain SH42 small subunit ribosomal RNA gene partial sequence:0.00000100000050002909,MG589309.1 Paramecium caudatum strain NV 2-5 18S ribosomal RNA gene partial sequence:0.00000100000050002909)19:0.00000100000050002909)0:0.00000100000050002909)0:0.00000100000050002909)0:0.00000100000050002909,MH188278.1 Paramecium caudatum strain PcPb1 small subunit ribosomal RNA gene partial sequence:0.00000100000050002909)1:0.00000100000050002909,(HE664171.1 Paramecium caudatum partial 18S rRNA gene strain SH42:0.00000100000050002909,MG589314.1 Paramecium caudatum strain RFL1 18S ribosomal RNA gene partial sequence:0.00000100000050002909)9:0.00000100000050002909)98:0.00000100000050002909,AB252003.1 Paramecium caudatum gene for 18S ribosomal RNA partial sequence strain Isn4:0.00000100000050002909)2:0.00000100000050002909)1:0.00000100000050002909,Or4-4:0.00000100000050002909)65:0.00000100000050002909,((MF185817.1 Paramecium caudatum strain PCTR8 18S ribosomal RNA gene partial sequence:0.00000100000050002909,AF217655.1 Paramecium caudatum 18S ribosomal RNA gene partial sequence:0.00058957958091124002)31:0.00000100000050002909,KF017426.1 Paramecium caudatum small subunit ribosomal RNA gene partial sequence:0.00000100000050002909)65:0.00010655555641048419)92:0.00120590943515405170,LT549004.1 Paramecium caudatum partial 18S rRNA gene strain SH2:0.00957008683017313011)100:0.01628918235737607245,(KM091236.1 Paramecium sp. GO1 18S ribosomal RNA gene partial sequence:0.00374015966284802501,((SP-1:0.00000100000050002909,PO16-1:0.00000100000050002909)99:0.00000100000050002909,(( HSG3-10:0.01319715658956845984,ShKm41:0.00597179024030707224)62:0.00119141685389584058, CD11-9 18S:0.00000100000050002909)84:0.00000100000050002909)96:0.00268067344355576087)93:0.00265330684891221203)100:0.02952751306361300898,(HE662763.2 Paramecium caudatum partial 18S rRNA gene strain FT6:0.00212652465517080462,(HE662765.2 Paramecium caudatum partial 18S rRNA gene strain FT8:0.00284078381581010214,HE662764.2 Paramecium caudatum partial 18S rRNA gene strain FT7:0.00212788708144639842)38:0.00000100000050002909)100:0.02528466408623729345)60:0.00858297752283275137,((HE662760.2 Paramecium jenningsi partial 18S rRNA gene strain FT3:0.00212819284240981085,(LT549003.2 Paramecium jenningsi partial 18S rRNA gene strain BJ1:0.00000100000050002909,LT628490.1 Paramecium cf. jenningsi ML1 partial 18S rRNA gene strain ML1:0.00071317216529299943)88:0.00000100000050002909)78:0.00072565486939906397,((AJ548821.1 Paramecium schewiakoffi partial 18S rRNA gene strain CH1:0.00510417993362940504,LT628501.1 Paramecium schewiakoffi strain BM India:0.00000100000050002909)98:0.00361001553477930922,((((AY102613.1 Paramecium tetraurelia 16S ribosomal RNA gene partial sequence:0.01818410409428244251,((MH822858.1 Paramecium tetraurelia strain 51K small subunit ribosomal RNA gene partial sequence:0.00000100000050002909,MH822859.1 Paramecium tetraurelia strain 298K small subunit ribosomal RNA gene partial sequence:0.00000100000050002909)14:0.00000100000050002909,(X03772.1 Paramecium tetraurelia small-subunit rRNA gene:0.00000100000050002909,AB252008.1 Paramecium tetraurelia gene for 18S ribosomal RNA partial sequence strain 51:0.00000100000050002909)72:0.00000100000050002909)28:0.00000100000050002909)87:0.00142393432357323978,((((KU729877.1 Paramecium biaurelia isolate US_Bl 15I1 18S ribosomal RNA gene partial sequence internal transcribed spacer 1 5.8S ribosomal RNA gene and internal transcribed spacer 2 complete sequence and 28S ribosomal RNA gene partial sequence:0.00000100000050002909,KX712111.1 Paramecium biaurelia isolate US_Bl 12I1 small subunit ribosomal RNA gene partial sequence internal transcribed spacer 1 5.8S ribosomal RNA gene and internal transcribed spacer 2 complete sequence and large subunit ribosomal RNA gene partial sequence macronuclear:0.00000100000050002909)26:0.00000100000050002909,KU729876.1 Paramecium biaurelia isolate US_Bl 11III1 18S ribosomal RNA gene partial sequence internal transcribed spacer 1 5.8S ribosomal RNA gene and internal transcribed spacer 2 complete sequence and 28S ribosomal RNA gene partial sequence:0.00000100000050002909)88:0.00000100000050002909,(((MG009435.1 Paramecium biaurelia strain 562alpha small subunit ribosomal RNA gene partial sequence:0.00000100000050002909,MG009438.1 Paramecium biaurelia strain Hc+ small subunit ribosomal RNA gene partial sequence:0.00000100000050002909)32:0.00000100000050002909,MG009437.1 Paramecium biaurelia strain FGC3 small subunit ribosomal RNA gene partial sequence:0.00000100000050002909)50:0.00000100000050002909,(LT628493.1 Paramecium aurelia partial 18S rRNA gene strain KN1:0.00071362373329406114,MH822861.1 Paramecium biaurelia strain 7K small subunit ribosomal RNA gene partial sequence:0.00287490184651063721)21:0.00000100000050002909)31:0.00000100000050002909)51:0.00070930568227076042,(((LN869956.1 Paramecium sp. aPFEU2 partial 18S rRNA gene isolate aPFEU2 Paramecium cf. aurelia:0.00000100000050002909,EF502045.1 Paramecium tetraurelia isolate Lahorensis 18S ribosomal RNA gene partial sequence:0.00141845235441549235)87:0.00141823370300051574,(((MG009436.1 Paramecium sp. strain Cs1 small subunit ribosomal RNA gene partial sequence:0.00000100000050002909,MG009440.1 Paramecium novaurelia strain UV1-3 small subunit ribosomal RNA gene partial sequence:0.00000100000050002909)31:0.00000100000050002909,LN869961.1 Paramecium sp. 1 aPFEU3 partial 18S rRNA gene isolate aPFEU3 Paramecium cf. aurelia:0.00000100000050002909)96:0.00214869261872160716,(KY855556.1 Paramecium aurelia complex sp. isolate KKV16 small subunit ribosomal RNA gene partial sequence:0.00000100000050002909,KY855583.1 Paramecium aurelia complex sp. isolate TP1 small subunit ribosomal RNA gene partial sequence:0.00000100000050002909)81:0.00000100000050002909)25:0.00000100000050002909)44:0.00070805957421346663,((((KY855557.1 Paramecium aurelia complex sp. isolate KKV17A small subunit ribosomal RNA gene partial sequence:0.00000100000050002909,MG573195.1 Paramecium primaurelia strain 16/IP 4-1 small subunit ribosomal RNA gene partial sequence internal transcribed spacer 1 5.8S ribosomal RNA gene and internal transcribed spacer 2 complete sequence and large subunit ribosomal RNA gene partial sequence:0.00070771981535474432)2:0.00000100000050002909,(AF100315.1 Paramecium primaurelia 18S ribosomal RNA gene partial sequence:0.00000100000050002909,(MK579298.1 Paramecium primaurelia isolate XZ34 small subunit ribosomal RNA gene partial sequence:0.00000100000050002909,KY852452.1 Paramecium tetraurelia 18S ribosomal RNA gene partial sequence:0.00359341742672544340)51:0.00000100000050002909)57:0.00000100000050002909)0:0.00000100000050002909,(MG573194.1 Paramecium primaurelia strain ThK-1 small subunit ribosomal RNA gene partial sequence internal transcribed spacer 1 5.8S ribosomal RNA gene and internal transcribed spacer 2 complete sequence and large subunit ribosomal RNA gene partial sequence:0.00000100000050002909,MG573197.1 Paramecium pentaurelia strain Nr1-10 small subunit ribosomal RNA gene partial sequence internal transcribed spacer 1 5.8S ribosomal RNA gene and internal transcribed spacer 2 complete sequence and large subunit ribosomal RNA gene partial sequence:0.00000100000050002909)18:0.00000100000050002909)0:0.00000100000050002909,(MH185950.1 Paramecium primaurelia strain CyL4-1 small subunit ribosomal RNA gene partial sequence internal transcribed spacer 1 5.8S ribosomal RNA gene and internal transcribed spacer 2 complete sequence and large subunit ribosomal RNA gene partial sequence:0.00000100000050002909,MG573196.1 Paramecium primaurelia strain 16/IP 17-21 small subunit ribosomal RNA gene partial sequence internal transcribed spacer 1 5.8S ribosomal RNA gene and internal transcribed spacer 2 complete sequence and large subunit ribosomal RNA gene partial sequence:0.00000100000050002909)22:0.00000100000050002909)62:0.00070553946750039726)36:0.00000100000050002909)60:0.00070803534602676907)62:0.00070828849527965762,AF100311.1 Paramecium jenningsi 18S ribosomal RNA gene partial sequence:0.00000100000050002909)14:0.00000100000050002909,(LT628491.1 Paramecium cf. jenningsi HC3 partial 18S rRNA gene strain HC3:0.00000100000050002909,LT628492.1 Paramecium cf. jenningsi JD1 partial 18S rRNA gene strain JD1:0.00000100000050002909)92:0.00000100000050002909)42:0.00000100000050002909)41:0.00069011526037189867)84:0.00757342806046809851)40:0.00763698126297017096)100:0.01903301080271251403,((((SMM81-1:0.00000100000050002909,MN198111.1 Paramecium multimicronucleatum isolate RJ1 India1:0.03272769467721139969)0:0.00000100000050002909,(( Pmmn_14_18S_final:0.00000100000050002909,(PL4-1:0.00000100000050002909,T42-1:0.00000100000050002909)12:0.00000100000050002909)0:0.00000100000050002909,(N6 OP:0.00000100000050002909,CyL3-21:0.00000100000050002909)11:0.00000100000050002909)0:0.00000100000050002909)0:0.00000100000050002909,AB252007.1 Paramecium multimicronucleatum strain YM25:0.00000100000050002909)82:0.00133333721130174799,((AF255361.1 Paramecium multimicronucleatum:0.00000100000050002909,(AB252006.1 Paramecium multimicronucleatum strain TH105 Japan:0.00000100000050002909,MK595741.1 Paramecium multimicronucleatum strain US_Bl 16I1 USA Yellowwood Lake:0.00000100000050002909)57:0.00000100000050002909)29:0.00000100000050002909,N12 AB9-8:0.00000100000050002909)95:0.00081374284897383167)92:0.00697155721410936281)96:0.00983133287147255203)10:0.00000100000050002909)4:0.00000100000050002909)8:0.00000100000050002909)2:0.00000100000050002909)1:0.00000100000050002909)4:0.00000100000050002909)9:0.00003826326120984193)60:0.00216445916154527030,ThK-16 Thailand:0.00144246550313723520);\n"
     ]
    }
   ],
   "source": [
    "from ete3 import Tree, faces, AttrFace, TreeStyle, NodeStyle\n",
    "import pandas as pd\n",
    "\n",
    "df = pd.read_csv('../../raw_data/stats/18S/total_stats.tsv', sep='\\t', index_col=0)\n",
    "# print(df)\n",
    "\n",
    "with open('../../trees/18S/tree_1/RAxML_bipartitions.result', 'r') as in_f:\n",
    "    with open('../../trees/18S/tree_1/RAxML_for_seaview.newick', 'w') as out_f:\n",
    "        for line in in_f:\n",
    "            line = line.strip()\n",
    "            for el in df.index:\n",
    "                if el in line:\n",
    "                    new_name = df['description'][el].replace(',', '').replace(';', '').replace(':', '').replace('(', '').replace(')', '')\n",
    "                    line = line.replace(el, new_name)\n",
    "            out_f.write(line)\n",
    "            print(line)\n",
    "            \n",
    "### тут укореняла в seaview"
   ]
  },
  {
   "cell_type": "code",
   "execution_count": 123,
   "metadata": {
    "scrolled": true
   },
   "outputs": [
    {
     "name": "stdout",
     "output_type": "stream",
     "text": [
      "MK764889.1 Paramecium nephridiatum strain BMS16-23 small subunit ribosomal RNA gene partial sequence\n",
      "KC495066.1 Paramecium bursaria clone YD-2010-3 18S ribosomal RNA gene partial sequence macronuclear\n",
      "((((\"FJ868200.1 Frontonia elegans isolate LWW08112804 small subunit ribosomal RNA gene, partial sequence\":0.010635,(\"LT993485.1 uncultured Specimen ID L_15\":0.00292039,\"FJ868198.1 Frontonia ocularis isolate LWW08112801 small subunit ribosomal RNA gene, partial sequence\":1e-06)100:0.0130691)97:0.00768851,((\"MG456578.1 Frontonia anatolica isolate FANT01 small subunit ribosomal RNA gene, partial sequence\":0.0143626,\"FJ868201.1 Frontonia pusilla isolate LWW08112805 small subunit ribosomal RNA gene, partial sequence\":0.0242156)41:0.00272224,\"KY887580.1 Frontonia sp. isolate AP7 small subunit ribosomal RNA gene, partial sequence\":0.0100802)31:0.00219534)88:0.0153579,((\"MF926592.1 Disematostoma minor isolate FXP201070101 small subunit ribosomal RNA gene, partial sequence\":0.0489682,\"AB725340.1 Uncultured clone: MP29-87\":0.0519725)100:0.0260939,(((\"FJ868199.1 Frontonia elegans isolate LWW08112803 small subunit ribosomal RNA gene, partial sequence\":0.00141627,\"FJ876953.1 Frontonia magna isolate CXR08040803 18S small subunit ribosomal RNA gene, complete sequence\":0.000707853)100:0.00676659,(\"HM140397.1 Frontonia sp. SNK-2011b isolate KR-09120101 small subunit ribosomal RNA gene, partial sequence; macronuclear\":0.00286651,\"FJ868202.1 Frontonia subtropica isolate LWW08122203 small subunit ribosomal RNA gene, partial sequence\":0.00138861)100:0.00715729)100:0.0271869,\"DQ883820.1 Frontonia tchibisovae strain QD-pop2 small subunit ribosomal RNA gene, complete sequence\":0.0143124)100:0.0306014)100:0.0357905):0.0337062,(((((\"KX669629.1 Paramecium chlorelligerum strain HSG1-11 small subunit ribosomal RNA gene, partial sequence; internal transcribed spacer 1, 5.8S ribosomal RNA gene, and internal transcribed spacer 2, complete sequence; and large subunit ribosomal RNA gene, partial sequence\":1e-06,\"KX669630.1 Paramecium chlorelligerum strain HSG2-12 small subunit ribosomal RNA gene, partial sequence; internal transcribed spacer 1, 5.8S ribosomal RNA gene, and internal transcribed spacer 2, complete sequence; and large subunit ribosomal RNA gene, partial sequence\":1e-06)93:0.00140931,((\"KM091235.1 Paramecium chlorelligerum 18S ribosomal RNA gene, partial sequence\":1e-06,\"JX010740.1 Paramecium chlorelligerum isolate Constance 18S ribosomal RNA gene, partial sequence\":0.00157805)56:1e-06,\"KX669631.1 Paramecium chlorelligerum small subunit ribosomal RNA gene, partial sequence; internal transcribed spacer 1, 5.8S ribosomal RNA gene, and internal transcribed spacer 2, complete sequence; and large subunit ribosomal RNA gene, partial sequence\":1e-06)50:1e-06)100:0.0374516,((((\"KY855562.1 Paramecium polycaryum isolate TBS3 small subunit ribosomal RNA gene, partial sequence\":1e-06,(\"LT628489.1 Paramecium polycaryum partial 18S rRNA gene, strain DK\":1e-06,\"LT628488.1 Paramecium polycaryum partial 18S rRNA gene, strain GD1\":1e-06)33:1e-06)94:1e-06,\"AF100313.1 Paramecium polycaryum 18S ribosomal RNA gene, partial sequence\":1e-06)100:0.0691038,((\"AF255362.1 Paramecium woodruffi small subunit ribosomal RNA gene, partial sequence\":0.00165259,(((\"HE978251.1 Paramecium nephridiatum partial 18S rRNA gene, strain PAR population\":1e-06,\"MK764889.1 Paramecium nephridiatum strain BMS16-23 small subunit ribosomal RNA gene, partial sequence\":1e-06)5:1e-06,(\"MK764889.1 Paramecium nephridiatum strain BMS16-23 small subunit ribosomal RNA gene, partial sequence\":1e-06,\"MG573198.1 Paramecium nephridiatum strain Sr 2-6 small subunit ribosomal RNA gene, partial sequence; internal transcribed spacer 1, 5.8S ribosomal RNA gene, and internal transcribed spacer 2, complete sequence; and large subunit ribosomal RNA gene, partial sequence\":1e-06)43:1e-06)78:1e-06,((\"HM140398.1 Paramecium duboscqui isolate KR-09052101 small subunit ribosomal RNA gene, partial sequence; macronuclear\":0.00211277,\"MK764894.1 Paramecium nephridiatum strain BMS16-34 small subunit ribosomal RNA gene, partial sequence\":1e-06)89:1e-06,\"AF100316.1 Paramecium nephridiatum strain BB3-9 18S ribosomal RNA gene, partial sequence\":1e-06)74:1e-06)94:0.00196375)94:0.00466565,\"KM091237.1 Paramecium sp. HB2 18S ribosomal RNA gene, partial sequence\":0.00117247)100:0.0249514)65:0.00769025,((\"MG018200.1 Paramecium calkinsi strain CyL 1-24 small subunit ribosomal RNA gene, partial sequence; internal transcribed spacer 1, 5.8S ribosomal RNA gene, and internal transcribed spacer 2, complete sequence; and large subunit ribosomal RNA gene, partial sequence\":1e-06,\"KY996811.1 Paramecium calkinsi strain CyL 8-33 small subunit ribosomal RNA gene, partial sequence; internal transcribed spacer 1, 5.8S ribosomal RNA gene, and internal transcribed spacer 2, complete sequence; and large subunit ribosomal RNA gene, partial sequence\":1e-06)100:0.00442825,(\"MH819561.1 Paramecium calkinsi isolate brackish water small subunit ribosomal RNA gene, partial sequence\":1e-06,(\"LT993464.1 uncultured Specimen ID 19\":0.00221426,(((\"FJ875142.1 Paramecium sp. CXR08032303 18S small subunit ribosomal RNA gene, complete sequence\":0.00144888,\"KY855553.1 Paramecium calkinsi isolate A522 small subunit ribosomal RNA gene, partial sequence\":0.00219877)37:1e-06,(\"KY855561.1 Paramecium cf. calkinsi isolate KWBL12 small subunit ribosomal RNA gene, partial sequence\":1e-06,\"FR869986.1 Paramecium sp. paraGC partial 18S rRNA gene, isolate paraGC\":0.00072607)100:0.00366651)74:0.00146209,\"MT012297.1 Paramecium calkinsi isolate 39 small subunit ribosomal RNA gene, partial sequence\":0.00369616)59:0.00146518)31:0.000711609)86:0.00674635)100:0.0545914)45:0.00922283)32:0.00890442,((((((((\"K5-2\":1e-06,(((((\"MG589310.1 Paramecium caudatum strain Sp 11-8 18S ribosomal RNA gene, partial sequence\":1e-06,(\"MG589311.1 Paramecium caudatum strain Sp 9-4 18S ribosomal RNA gene, partial sequence\":1e-06,\"MG589313.1 Paramecium caudatum strain VL 10-1 18S ribosomal RNA gene, partial sequence\":1e-06)14:1e-06)2:1e-06,(\"MG697233.1 Paramecium caudatum strain Sp 9-22 small subunit ribosomal RNA gene, partial sequence\":1e-06,(\"MG589312.1 Paramecium caudatum strain Sp 9-5 18S ribosomal RNA gene, partial sequence\":1e-06,(\"MG009439.1 Paramecium caudatum strain SH42 small subunit ribosomal RNA gene, partial sequence\":1e-06,\"MG589309.1 Paramecium caudatum strain NV 2-5 18S ribosomal RNA gene, partial sequence\":1e-06)19:1e-06)0:1e-06)0:1e-06)0:1e-06,\"MH188278.1 Paramecium caudatum strain PcPb1 small subunit ribosomal RNA gene, partial sequence\":1e-06)1:1e-06,(\"HE664171.1 Paramecium caudatum partial 18S rRNA gene, strain SH42\":1e-06,\"MG589314.1 Paramecium caudatum strain RFL1 18S ribosomal RNA gene, partial sequence\":1e-06)9:1e-06)98:1e-06,\"AB252003.1 Paramecium caudatum gene for 18S ribosomal RNA, partial sequence, strain: Isn4\":1e-06)2:1e-06)1:1e-06,\"Or4-4\":1e-06)65:1e-06,((\"MF185817.1 Paramecium caudatum strain PCTR8 18S ribosomal RNA gene, partial sequence\":1e-06,\"AF217655.1 Paramecium caudatum 18S ribosomal RNA gene, partial sequence\":0.00058958)31:1e-06,\"KF017426.1 Paramecium caudatum small subunit ribosomal RNA gene, partial sequence\":1e-06)65:0.000106556)92:0.00120591,\"LT549004.1 Paramecium caudatum partial 18S rRNA gene, strain SH2\":0.00957009)100:0.0162892,(\"KM091236.1 Paramecium sp. GO1 18S ribosomal RNA gene, partial sequence\":0.00374016,((\"SP-1\":1e-06,\"PO16-1\":1e-06)99:1e-06,((\" HSG3-10\":0.0131972,\"ShKm41\":0.00597179)62:0.00119142,\" CD11-9 18S\":1e-06)84:1e-06)96:0.00268067)93:0.00265331)100:0.0295275,(\"HE662763.2 Paramecium caudatum partial 18S rRNA gene, strain FT6\":0.00212652,(\"HE662765.2 Paramecium caudatum partial 18S rRNA gene, strain FT8\":0.00284078,\"HE662764.2 Paramecium caudatum partial 18S rRNA gene, strain FT7\":0.00212789)38:1e-06)100:0.0252847)60:0.00858298,((\"HE662760.2 Paramecium jenningsi partial 18S rRNA gene, strain FT3\":0.00212819,(\"LT549003.2 Paramecium jenningsi partial 18S rRNA gene, strain BJ1\":1e-06,\"LT628490.1 Paramecium cf. jenningsi ML1 partial 18S rRNA gene, strain ML1\":0.000713172)88:1e-06)78:0.000725655,((\"AJ548821.1 Paramecium schewiakoffi partial 18S rRNA gene, strain CH1\":0.00510418,\"LT628501.1 Paramecium schewiakoffi strain BM India\":1e-06)98:0.00361002,((((\"AY102613.1 Paramecium tetraurelia 16S ribosomal RNA gene, partial sequence\":0.0181841,((\"MH822858.1 Paramecium tetraurelia strain 51K small subunit ribosomal RNA gene, partial sequence\":1e-06,\"MH822859.1 Paramecium tetraurelia strain 298K small subunit ribosomal RNA gene, partial sequence\":1e-06)14:1e-06,(\"X03772.1 Paramecium tetraurelia small-subunit rRNA gene\":1e-06,\"AB252008.1 Paramecium tetraurelia gene for 18S ribosomal RNA, partial sequence, strain: 51\":1e-06)72:1e-06)28:1e-06)87:0.00142393,((((\"KU729877.1 Paramecium biaurelia isolate US_Bl 15I1 18S ribosomal RNA gene, partial sequence; internal transcribed spacer 1, 5.8S ribosomal RNA gene, and internal transcribed spacer 2, complete sequence; and 28S ribosomal RNA gene, partial sequence\":1e-06,\"KX712111.1 Paramecium biaurelia isolate US_Bl 12I1 small subunit ribosomal RNA gene, partial sequence; internal transcribed spacer 1, 5.8S ribosomal RNA gene, and internal transcribed spacer 2, complete sequence; and large subunit ribosomal RNA gene, partial sequence; macronuclear\":1e-06)26:1e-06,\"KU729876.1 Paramecium biaurelia isolate US_Bl 11III1 18S ribosomal RNA gene, partial sequence; internal transcribed spacer 1, 5.8S ribosomal RNA gene, and internal transcribed spacer 2, complete sequence; and 28S ribosomal RNA gene, partial sequence\":1e-06)88:1e-06,(((\"MG009435.1 Paramecium biaurelia strain 562alpha small subunit ribosomal RNA gene, partial sequence\":1e-06,\"MG009438.1 Paramecium biaurelia strain Hc+ small subunit ribosomal RNA gene, partial sequence\":1e-06)32:1e-06,\"MG009437.1 Paramecium biaurelia strain FGC3 small subunit ribosomal RNA gene, partial sequence\":1e-06)50:1e-06,(\"LT628493.1 Paramecium aurelia partial 18S rRNA gene, strain KN1\":0.000713624,\"MH822861.1 Paramecium biaurelia strain 7K small subunit ribosomal RNA gene, partial sequence\":0.0028749)21:1e-06)31:1e-06)51:0.000709306,(((\"LN869956.1 Paramecium sp. aPFEU2 partial 18S rRNA gene, isolate aPFEU2 Paramecium cf. aurelia\":1e-06,\"EF502045.1 Paramecium tetraurelia isolate Lahorensis 18S ribosomal RNA gene, partial sequence\":0.00141845)87:0.00141823,(((\"MG009436.1 Paramecium sp. strain Cs1 small subunit ribosomal RNA gene, partial sequence\":1e-06,\"MG009440.1 Paramecium novaurelia strain UV1-3 small subunit ribosomal RNA gene, partial sequence\":1e-06)31:1e-06,\"LN869961.1 Paramecium sp. 1 aPFEU3 partial 18S rRNA gene, isolate aPFEU3 Paramecium cf. aurelia\":1e-06)96:0.00214869,(\"KY855556.1 Paramecium aurelia complex sp. isolate KKV16 small subunit ribosomal RNA gene, partial sequence\":1e-06,\"KY855583.1 Paramecium aurelia complex sp. isolate TP1 small subunit ribosomal RNA gene, partial sequence\":1e-06)81:1e-06)25:1e-06)44:0.00070806,((((\"KY855557.1 Paramecium aurelia complex sp. isolate KKV17A small subunit ribosomal RNA gene, partial sequence\":1e-06,\"MG573195.1 Paramecium primaurelia strain 16/IP 4-1 small subunit ribosomal RNA gene, partial sequence; internal transcribed spacer 1, 5.8S ribosomal RNA gene, and internal transcribed spacer 2, complete sequence; and large subunit ribosomal RNA gene, partial sequence\":0.00070772)2:1e-06,(\"AF100315.1 Paramecium primaurelia 18S ribosomal RNA gene, partial sequence\":1e-06,(\"MK579298.1 Paramecium primaurelia isolate XZ34 small subunit ribosomal RNA gene, partial sequence\":1e-06,\"KY852452.1 Paramecium tetraurelia 18S ribosomal RNA gene, partial sequence\":0.00359342)51:1e-06)57:1e-06)0:1e-06,(\"MG573194.1 Paramecium primaurelia strain ThK-1 small subunit ribosomal RNA gene, partial sequence; internal transcribed spacer 1, 5.8S ribosomal RNA gene, and internal transcribed spacer 2, complete sequence; and large subunit ribosomal RNA gene, partial sequence\":1e-06,\"MG573197.1 Paramecium pentaurelia strain Nr1-10 small subunit ribosomal RNA gene, partial sequence; internal transcribed spacer 1, 5.8S ribosomal RNA gene, and internal transcribed spacer 2, complete sequence; and large subunit ribosomal RNA gene, partial sequence\":1e-06)18:1e-06)0:1e-06,(\"MH185950.1 Paramecium primaurelia strain CyL4-1 small subunit ribosomal RNA gene, partial sequence; internal transcribed spacer 1, 5.8S ribosomal RNA gene, and internal transcribed spacer 2, complete sequence; and large subunit ribosomal RNA gene, partial sequence\":1e-06,\"MG573196.1 Paramecium primaurelia strain 16/IP 17-21 small subunit ribosomal RNA gene, partial sequence; internal transcribed spacer 1, 5.8S ribosomal RNA gene, and internal transcribed spacer 2, complete sequence; and large subunit ribosomal RNA gene, partial sequence\":1e-06)22:1e-06)62:0.000705539)36:1e-06)60:0.000708035)62:0.000708288,\"AF100311.1 Paramecium jenningsi 18S ribosomal RNA gene, partial sequence\":1e-06)14:1e-06,(\"LT628491.1 Paramecium cf. jenningsi HC3 partial 18S rRNA gene, strain HC3\":1e-06,\"LT628492.1 Paramecium cf. jenningsi JD1 partial 18S rRNA gene, strain JD1\":1e-06)92:1e-06)42:1e-06)41:0.000690115)84:0.00757343)40:0.00763698,(((((\"SMM81-1\":1e-06,\"MN198111.1 Paramecium multimicronucleatum isolate RJ1 India1\":0.0327277)0:1e-06,((\" Pmmn_14_18S_final\":1e-06,(\"PL4-1\":1e-06,\"T42-1\":1e-06)12:1e-06)0:1e-06,(\"N6 (OP)\":1e-06,\"CyL3-21\":1e-06)11:1e-06)0:1e-06)0:1e-06,\"AB252007.1 Paramecium multimicronucleatum strain YM25\":1e-06)82:0.00133334,((\"AF255361.1 Paramecium multimicronucleatum\":1e-06,(\"AB252006.1 Paramecium multimicronucleatum strain TH105 Japan\":1e-06,\"MK595741.1 Paramecium multimicronucleatum strain US_Bl 16I1 USA Yellowwood Lake\":1e-06)57:1e-06)29:1e-06,\"N12 (AB9-8)\":1e-06)95:0.000813743)92:0.00697156,((\"MSA-5\":0.00437808,((((\"HE650906.1 Paramecium multimicronucleatum clone FT1 Pakistan\":0.00143762,\"HE662761.2 Paramecium multimicronucleatum strain FT4 Pakistan\":0.0014374)17:1e-06,((\"AJ548822.1 Paramecium sp. BR3 partial 18S rRNA gene, strain BR3\":0.00748868,\"HE662762.2 Paramecium multimicronucleatum strain FT5 Pakistan\":0.00806708)65:0.000676948,\"FR869987.1 Paramecium sp. isolate para200 Pakistan\":0.00144385)12:1e-06)46:1e-06,\"HE650907.2 Paramecium multimicronucleatum strain FT2 Pakistan\":0.00727564)66:0.000718808,((((\"LT549005.1 Paramecium multimicronucleatum strain TP2 India\":1e-06,(\"LT549006.1 Paramecium multimicronucleatum strain PC6 India\":1e-06,(\" KJ755359 Paramecium sp. BNB-2015 P.grohmannae\":0.0111168,\"N16 (Ns2-16)\":0.000576643)17:2.36662e-05)2:1e-06)3:1e-06,\"LT628494.1 Paramecium multimicronucleatum strain AC2 India\":1e-06)9:1e-06,\"MG994988.1 Paramecium multimicronucleatum strain AD6 small subunit ribosomal RNA gene, partial sequence\":0.0579878)8:1e-06,\"N17 (Vv)\":0.000719582)17:0.000114995)4:1e-06)22:0.00143898,(\"Or4-3\":0.00143894,((\"ChP5-3\":1e-06,((\"K4-2\":1e-06,\"L72-1\":1e-06)18:1e-06,\"ChP10-2\":1e-06)21:1e-06)70:1e-06,(\"HG315606.1 Paramecium multimicronucleatum strain Pm Europe\":1e-06,(\"HG315605.1 Paramecium multimicronucleatum strain LSA Italy\":0.00145325,(\" Pmmn_4_18S_final\":0.000724643,(\"HG315607.1 Paramecium multimicronucleatum strain PS23\":1e-06,(\"LB-1\":0.00140272,(\"OmN-1 USA, NE\":1e-06,\"ThK-16 Thailand\":0.00144247)60:0.00216446)9:3.82633e-05)4:1e-06)1:1e-06)2:1e-06)8:1e-06)4:1e-06)10:1e-06)96:0.00983133)100:0.019033)100:0.0265047)95:0.0176946,((\"AM236094.1 Paramecium duboscqui partial 18S rRNA gene, strain Ku4-8\":0.00533922,((((((\"HE819874.1 Paramecium duboscqui genomic DNA containing 18S rRNA gene, ITS1, 5.8S rRNA gene, ITS2 and 28S rRNA gene, strain IG2-1\":1e-06,\"HE819878.1 Paramecium duboscqui genomic DNA containing 18S rRNA gene, ITS1, 5.8S rRNA gene, ITS2 and 28S rRNA gene, strain Tub2\":1e-06)14:1e-06,\"HE819873.1 Paramecium duboscqui genomic DNA containing 18S rRNA gene, ITS1, 5.8S rRNA gene, ITS2 and 28S rRNA gene, strain AWH9-4\":1e-06)8:1e-06,\"HE819875.1 Paramecium duboscqui genomic DNA containing 18S rRNA gene, ITS1, 5.8S rRNA gene, ITS2 and 28S rRNA gene, strain In05\":1e-06)4:1e-06,\"HE819876.1 Paramecium duboscqui genomic DNA containing 18S rRNA gene, ITS1, 5.8S rRNA gene, ITS2 and 28S rRNA gene, strain Pd.2\":1e-06)10:1e-06,\"HE819877.1 Paramecium duboscqui genomic DNA containing 18S rRNA gene, ITS1, 5.8S rRNA gene, ITS2 and 28S rRNA gene, strain Ppd-3\":1e-06)88:0.000419022,(\"HE819872.1 Paramecium duboscqui genomic DNA containing 18S rRNA gene, ITS1, 5.8S rRNA gene, ITS2 and 28S rRNA gene, strain BB8\":1e-06,\"HE819871.1 Paramecium duboscqui genomic DNA containing 18S rRNA gene, ITS1, 5.8S rRNA gene, ITS2 and 28S rRNA gene, strain 702\":1e-06)92:0.0010168)99:0.0055779)100:0.021892,((\"AB206544.1 Paramecium bursaria gene for 18S ribosomal RNA, partial sequence, strain:PB-SW1\":0.0023217,(((\"KC495066.1 Paramecium bursaria clone YD-2010-3 18S ribosomal RNA gene, partial sequence; macronuclear\":1e-06,\"KC495066.1 Paramecium bursaria clone YD-2010-3 18S ribosomal RNA gene, partial sequence; macronuclear\":1e-06)93:0.00149427,\"AB206537.1 Paramecium bursaria gene for 18S ribosomal RNA, partial sequence, strain:OK1\":1e-06)100:0.0115265,(\"AF100314.1 Paramecium bursaria 18S ribosomal RNA gene, partial sequence\":0.00153403,(\"AB252001.1 Paramecium bursaria gene for 18S ribosomal RNA, partial sequence, strain: CCAP 1660/12\":1e-06,((\"LN869940.1 Paramecium sp. aLdG3 partial 18S rRNA gene, isolate aLdG3 Paramecium cf. bursaria\":1e-06,\"MG589316.1 Paramecium bursaria strain 1M-2 18S ribosomal RNA gene, partial sequence\":1e-06)36:1e-06,\"MG589318.1 Paramecium bursaria strain VL 12-10 18S ribosomal RNA gene, partial sequence\":1e-06)100:1e-06)99:1e-06)85:1e-06)76:0.00677412)100:0.0884366,((\"KM091234.1 Paramecium buetschlii 18S ribosomal RNA gene, partial sequence\":0.0121559,((\"OBEP011407967.1 metagenome genome assembly, contig: sd11A-TGTGCTGGCTCTCTTCATTCATAATATCAT-contig-1-11749, whole genome shotgun sequence\":1e-06,\"OBRS01776142.1 metagenome genome assembly, contig: sd11A_TGTGCTGGCTCTCTTCATTCATAATATCAT_contig_1_11749, whole genome shotgun sequence\":1e-06)36:1e-06,\"OBAT01029766.1 metagenome genome assembly, contig: OTU29766;size=1, whole genome shotgun sequence\":1e-06)100:0.0231659)90:0.0118149,(\"MG573199.1 Paramecium putrinum strain ETu 7-4 small subunit ribosomal RNA gene, partial sequence; internal transcribed spacer 1, 5.8S ribosomal RNA gene, and internal transcribed spacer 2, complete sequence; and large subunit ribosomal RNA gene, partial sequence\":0.0072468,\"AF255360.1 Paramecium putrinum small subunit ribosomal RNA gene, partial sequence\":0.00714082)100:0.0358889)27:0.00261934)82:0.00757984)82:0.0149718):0.0149557)100;\n"
     ]
    }
   ],
   "source": [
    "with open('../../trees/18S/tree_1/RAxML_rooted.newick', 'r') as in_f:\n",
    "    with open('../../trees/18S/tree_1/RAxML_ete_tree.newick', 'w') as out_f:\n",
    "        for line in in_f:\n",
    "            line = line.strip()\n",
    "            for ind, name in zip(df.index, df.description):\n",
    "                # print(ind, name)\n",
    "                name = name.lstrip(' ')\n",
    "                name = name.replace(',', '').replace(';', '').replace(':', '').replace('(', '').replace(')', '')\n",
    "                if name in line:\n",
    "                    new_name = '\"' + df['description'][ind] + '\"'\n",
    "                    line = line.replace(name, new_name)\n",
    "                else:\n",
    "                    print(name)\n",
    "            out_f.write(line)\n",
    "            print(line)"
   ]
  },
  {
   "cell_type": "code",
   "execution_count": null,
   "metadata": {},
   "outputs": [],
   "source": [
    "from ete3 import Tree, faces, AttrFace, TreeStyle, NodeStyle\n",
    "\n",
    "t = Tree('../../trees/18S/tree_1/RAxML_ete_tree.newick', quoted_node_names=True)\n",
    "# print(t)\n",
    "\n",
    "for node in t.traverse():\n",
    "    node.img_style['size'] = 0\n",
    "    \n",
    "for n in t.get_leaves():\n",
    "    n.name = n.name[:50]\n",
    "    \n",
    "t.ladderize(direction=1)\n",
    "ts = TreeStyle()\n",
    "ts.show_branch_support = True\n",
    "ts.scale =  1000\n",
    "ts.branch_vertical_margin = 10\n",
    "# ts.mode = \"c\"\n",
    "t.show(tree_style=ts)\n",
    "# t.render('trees/ml_tree_3/PhyML_ete_tree_1000.pdf', dpi=1200, tree_style=ts)"
   ]
  },
  {
   "cell_type": "code",
   "execution_count": 92,
   "metadata": {},
   "outputs": [
    {
     "name": "stdout",
     "output_type": "stream",
     "text": [
      "55\n"
     ]
    }
   ],
   "source": [
    "str1 = 'X03772.1 Paramecium tetraurelia small-subunit rRNA gene'\n",
    "print(len(str1))"
   ]
  },
  {
   "cell_type": "code",
   "execution_count": null,
   "metadata": {},
   "outputs": [],
   "source": []
  }
 ],
 "metadata": {
  "kernelspec": {
   "display_name": "Python 3",
   "language": "python",
   "name": "python3"
  },
  "language_info": {
   "codemirror_mode": {
    "name": "ipython",
    "version": 3
   },
   "file_extension": ".py",
   "mimetype": "text/x-python",
   "name": "python",
   "nbconvert_exporter": "python",
   "pygments_lexer": "ipython3",
   "version": "3.7.5"
  }
 },
 "nbformat": 4,
 "nbformat_minor": 4
}
